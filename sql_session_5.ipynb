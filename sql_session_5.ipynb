{
  "nbformat": 4,
  "nbformat_minor": 0,
  "metadata": {
    "colab": {
      "provenance": []
    },
    "kernelspec": {
      "name": "python3",
      "display_name": "Python 3"
    },
    "language_info": {
      "name": "python"
    }
  },
  "cells": [
    {
      "cell_type": "markdown",
      "source": [
        "**SQL JOINS CONT...**"
      ],
      "metadata": {
        "id": "VX5hppW2aAdY"
      }
    },
    {
      "cell_type": "code",
      "source": [
        "%load_ext sql"
      ],
      "metadata": {
        "id": "mtI9VoRmSmUu"
      },
      "execution_count": null,
      "outputs": []
    },
    {
      "cell_type": "code",
      "source": [
        "%sql sqlite:///sales.db"
      ],
      "metadata": {
        "id": "PqUQOybWSmRa"
      },
      "execution_count": null,
      "outputs": []
    },
    {
      "cell_type": "code",
      "execution_count": null,
      "metadata": {
        "id": "Pzk-j5eBWFRt",
        "colab": {
          "base_uri": "https://localhost:8080/"
        },
        "outputId": "df90a9f0-c327-484f-bc2c-15957133896c"
      },
      "outputs": [
        {
          "output_type": "stream",
          "name": "stdout",
          "text": [
            " * sqlite:///sales.db\n",
            "Done.\n"
          ]
        },
        {
          "output_type": "execute_result",
          "data": {
            "text/plain": [
              "[]"
            ]
          },
          "metadata": {},
          "execution_count": 3
        }
      ],
      "source": [
        "%%sql CREATE TABLE Customers (\n",
        "    CustomerID INT PRIMARY KEY,\n",
        "    CustomerName VARCHAR(255),\n",
        "    ContactName VARCHAR(255),\n",
        "    Address VARCHAR(255),\n",
        "    City VARCHAR(255),\n",
        "    PostalCode VARCHAR(20),\n",
        "    Country VARCHAR(255)\n",
        ");"
      ]
    },
    {
      "cell_type": "code",
      "source": [
        "%%sql INSERT INTO Customers (CustomerID, CustomerName, ContactName, Address, City, PostalCode, Country) VALUES\n",
        "(1, 'John Doe', 'John', '123 Main St', 'Nairobi', '12345', 'Kenya'),\n",
        "(2, 'Jane Smith', 'Jane', '456 Oak St', 'Mombasa', '67890', 'Kenya'),\n",
        "(3, 'Alice Johnson', 'Alice', '789 Pine St', 'Kisumu', '54321', 'Kenya'),\n",
        "(4, 'Robert Williams', 'Robert', '101 Cedar St', 'Nakuru', '98765', 'Kenya'),\n",
        "(5, 'Eva Brown', 'Eva', '202 Maple St', 'Eldoret', '24680', 'Kenya'),\n",
        "(6, 'David Wilson', 'David', '303 Birch St', 'Thika', '13579', 'Kenya'),\n",
        "(7, 'Grace Taylor', 'Grace', '404 Redwood St', 'Kakamega', '86420', 'Kenya'),\n",
        "(8, 'Michael Davis', 'Michael', '505 Elm St', 'Machakos', '97531', 'Kenya'),\n",
        "(9, 'Sophia Martinez', 'Sophia', '606 Pineapple St', 'Kericho', '10432', 'Kenya'),\n",
        "(10, 'Daniel Moore', 'Daniel', '707 Cedar St', 'Kisii', '68374', 'Kenya'),\n",
        "(11, 'Olivia Johnson', 'Olivia', '808 Oak St', 'Nyeri', '29574', 'Kenya'),\n",
        "(12, 'William Garcia', 'William', '909 Maple St', 'Malindi', '72948', 'Kenya'),\n",
        "(13, 'Emma Rodriguez', 'Emma', '1011 Pine St', 'Lamu', '47382', 'Kenya'),\n",
        "(14, 'Henry Lee', 'Henry', '1212 Cedar St', 'Voi', '62718', 'Kenya'),\n",
        "(15, 'Sophie Kimani', 'Sophie', '1313 Acacia St', 'Kitui', '81937', 'Kenya');"
      ],
      "metadata": {
        "colab": {
          "base_uri": "https://localhost:8080/"
        },
        "id": "YB1BD1DbSi3b",
        "outputId": "1b920d28-75be-4224-afff-634bbd888829"
      },
      "execution_count": null,
      "outputs": [
        {
          "output_type": "stream",
          "name": "stdout",
          "text": [
            " * sqlite:///sales.db\n",
            "15 rows affected.\n"
          ]
        },
        {
          "output_type": "execute_result",
          "data": {
            "text/plain": [
              "[]"
            ]
          },
          "metadata": {},
          "execution_count": 4
        }
      ]
    },
    {
      "cell_type": "code",
      "source": [
        "%%sql CREATE TABLE Orders (\n",
        "    OrderID INT PRIMARY KEY,\n",
        "    CustomerID INT,\n",
        "    OrderDate DATE,\n",
        "    FOREIGN KEY (CustomerID) REFERENCES Customers(CustomerID)\n",
        ");"
      ],
      "metadata": {
        "colab": {
          "base_uri": "https://localhost:8080/"
        },
        "id": "VAPsyEIFTjv4",
        "outputId": "c17e6b83-5af2-4ca0-9a53-e4cdd44d0f18"
      },
      "execution_count": null,
      "outputs": [
        {
          "output_type": "stream",
          "name": "stdout",
          "text": [
            " * sqlite:///sales.db\n",
            "Done.\n"
          ]
        },
        {
          "output_type": "execute_result",
          "data": {
            "text/plain": [
              "[]"
            ]
          },
          "metadata": {},
          "execution_count": 6
        }
      ]
    },
    {
      "cell_type": "code",
      "source": [
        "%%sql INSERT INTO Orders VALUES\n",
        "(101, 1, '2024-01-10'),\n",
        "(102, 15, '2024-02-15'),\n",
        "(103, 3, '2024-03-20'),\n",
        "(104, 12, '2024-04-25'),\n",
        "(105, 4, '2024-05-30'),\n",
        "(106, 15, '2024-06-05'),\n",
        "(107, 2, '2024-07-10'),\n",
        "(108, 11, '2024-08-15'),\n",
        "(109, 3, '2024-09-20'),\n",
        "(110, 6, '2024-10-25'),\n",
        "(111, 5, '2024-11-30'),\n",
        "(112, 9, '2024-12-05'),\n",
        "(113, 2, '2025-01-10'),\n",
        "(114, 3, '2025-02-15'),\n",
        "(115, 4, '2025-03-20'),\n",
        "(116, 5, '2025-04-25'),\n",
        "(117, 1, '2025-05-30'),\n",
        "(118, 8, '2025-06-05'),\n",
        "(119, 3, '2025-07-10'),\n",
        "(120, 4, '2025-08-15');\n"
      ],
      "metadata": {
        "id": "9Z0AZDHiWJUI",
        "colab": {
          "base_uri": "https://localhost:8080/"
        },
        "outputId": "f7810487-52fd-4d91-ef79-54d5931448de"
      },
      "execution_count": null,
      "outputs": [
        {
          "output_type": "stream",
          "name": "stdout",
          "text": [
            " * sqlite:///sales.db\n",
            "20 rows affected.\n"
          ]
        },
        {
          "output_type": "execute_result",
          "data": {
            "text/plain": [
              "[]"
            ]
          },
          "metadata": {},
          "execution_count": 7
        }
      ]
    },
    {
      "cell_type": "code",
      "source": [
        "%%sql CREATE TABLE OrderDetails (\n",
        "    OrderDetailID INT PRIMARY KEY,\n",
        "    OrderID INT,\n",
        "    ProductID INT,\n",
        "    Quantity INT,\n",
        "    Sales DECIMAL(10, 2),\n",
        "    FOREIGN KEY (OrderID) REFERENCES Orders(OrderID),\n",
        "    FOREIGN KEY (ProductID) REFERENCES Products(ProductID)\n",
        ");\n"
      ],
      "metadata": {
        "id": "vbEYvKNeWJRh",
        "colab": {
          "base_uri": "https://localhost:8080/"
        },
        "outputId": "c94d2ac8-6d38-4479-8250-6f63737c523d"
      },
      "execution_count": null,
      "outputs": [
        {
          "output_type": "stream",
          "name": "stdout",
          "text": [
            " * sqlite:///sales.db\n",
            "Done.\n"
          ]
        },
        {
          "output_type": "execute_result",
          "data": {
            "text/plain": [
              "[]"
            ]
          },
          "metadata": {},
          "execution_count": 8
        }
      ]
    },
    {
      "cell_type": "code",
      "source": [
        "%%sql INSERT INTO OrderDetails VALUES\n",
        "(1, 101, 1, 5, 100.00),\n",
        "(2, 102, 2, 10, 200.00),\n",
        "(3, 103, 3, 8, 160.00),\n",
        "(4, 104, 4, 12, 240.00),\n",
        "(5, 105, 5, 15, 300.00),\n",
        "(6, 106, 6, 20, 400.00),\n",
        "(7, 107, 7, 25, 500.00),\n",
        "(8, 108, 8, 30, 600.00),\n",
        "(9, 109, 9, 5, 100.00),\n",
        "(10, 110, 10, 10, 200.00),\n",
        "(11, 111, 11, 15, 300.00),\n",
        "(12, 112, 12, 8, 160.00),\n",
        "(13, 113, 13, 6, 120.00),\n",
        "(14, 114, 14, 10, 200.00),\n",
        "(15, 115, 15, 20, 400.00),\n",
        "(16, 116, 1, 25, 500.00),\n",
        "(17, 117, 2, 30, 600.00),\n",
        "(18, 118, 3, 15, 300.00),\n",
        "(19, 119, 4, 10, 200.00),\n",
        "(20, 120, 5, 12, 240.00);"
      ],
      "metadata": {
        "id": "fggz61r7WJPL",
        "colab": {
          "base_uri": "https://localhost:8080/"
        },
        "outputId": "4259bd1e-d7f9-41cc-ac94-86cc3c75020b"
      },
      "execution_count": null,
      "outputs": [
        {
          "output_type": "stream",
          "name": "stdout",
          "text": [
            " * sqlite:///sales.db\n",
            "20 rows affected.\n"
          ]
        },
        {
          "output_type": "execute_result",
          "data": {
            "text/plain": [
              "[]"
            ]
          },
          "metadata": {},
          "execution_count": 9
        }
      ]
    },
    {
      "cell_type": "markdown",
      "source": [
        "# **QUERIES:**"
      ],
      "metadata": {
        "id": "-pwPIVdwrs0_"
      }
    },
    {
      "cell_type": "markdown",
      "source": [
        "**Question: Show all customers and their orders, including those who haven't placed any orders.**"
      ],
      "metadata": {
        "id": "G2Vh8zNWrx-x"
      }
    },
    {
      "cell_type": "code",
      "source": [
        "%sql SELECT * FROM Customers LIMIT 3;"
      ],
      "metadata": {
        "colab": {
          "base_uri": "https://localhost:8080/",
          "height": 139
        },
        "id": "H7xQdzMto8V_",
        "outputId": "9e264065-c2c4-48e3-f979-c1123e8536ee"
      },
      "execution_count": null,
      "outputs": [
        {
          "output_type": "stream",
          "name": "stdout",
          "text": [
            " * sqlite:///sales.db\n",
            "Done.\n"
          ]
        },
        {
          "output_type": "execute_result",
          "data": {
            "text/plain": [
              "[(1, 'John Doe', 'John', '123 Main St', 'Nairobi', '12345', 'Kenya'),\n",
              " (2, 'Jane Smith', 'Jane', '456 Oak St', 'Mombasa', '67890', 'Kenya'),\n",
              " (3, 'Alice Johnson', 'Alice', '789 Pine St', 'Kisumu', '54321', 'Kenya')]"
            ],
            "text/html": [
              "<table>\n",
              "    <thead>\n",
              "        <tr>\n",
              "            <th>CustomerID</th>\n",
              "            <th>CustomerName</th>\n",
              "            <th>ContactName</th>\n",
              "            <th>Address</th>\n",
              "            <th>City</th>\n",
              "            <th>PostalCode</th>\n",
              "            <th>Country</th>\n",
              "        </tr>\n",
              "    </thead>\n",
              "    <tbody>\n",
              "        <tr>\n",
              "            <td>1</td>\n",
              "            <td>John Doe</td>\n",
              "            <td>John</td>\n",
              "            <td>123 Main St</td>\n",
              "            <td>Nairobi</td>\n",
              "            <td>12345</td>\n",
              "            <td>Kenya</td>\n",
              "        </tr>\n",
              "        <tr>\n",
              "            <td>2</td>\n",
              "            <td>Jane Smith</td>\n",
              "            <td>Jane</td>\n",
              "            <td>456 Oak St</td>\n",
              "            <td>Mombasa</td>\n",
              "            <td>67890</td>\n",
              "            <td>Kenya</td>\n",
              "        </tr>\n",
              "        <tr>\n",
              "            <td>3</td>\n",
              "            <td>Alice Johnson</td>\n",
              "            <td>Alice</td>\n",
              "            <td>789 Pine St</td>\n",
              "            <td>Kisumu</td>\n",
              "            <td>54321</td>\n",
              "            <td>Kenya</td>\n",
              "        </tr>\n",
              "    </tbody>\n",
              "</table>"
            ]
          },
          "metadata": {},
          "execution_count": 10
        }
      ]
    },
    {
      "cell_type": "code",
      "source": [
        "%sql SELECT * FROM Orders LIMIT 3;"
      ],
      "metadata": {
        "colab": {
          "base_uri": "https://localhost:8080/",
          "height": 139
        },
        "id": "JbBERCL3pAch",
        "outputId": "98caef6f-136d-47c8-f7a2-686089449272"
      },
      "execution_count": null,
      "outputs": [
        {
          "output_type": "stream",
          "name": "stdout",
          "text": [
            " * sqlite:///sales.db\n",
            "Done.\n"
          ]
        },
        {
          "output_type": "execute_result",
          "data": {
            "text/plain": [
              "[(101, 1, '2024-01-10'), (102, 15, '2024-02-15'), (103, 3, '2024-03-20')]"
            ],
            "text/html": [
              "<table>\n",
              "    <thead>\n",
              "        <tr>\n",
              "            <th>OrderID</th>\n",
              "            <th>CustomerID</th>\n",
              "            <th>OrderDate</th>\n",
              "        </tr>\n",
              "    </thead>\n",
              "    <tbody>\n",
              "        <tr>\n",
              "            <td>101</td>\n",
              "            <td>1</td>\n",
              "            <td>2024-01-10</td>\n",
              "        </tr>\n",
              "        <tr>\n",
              "            <td>102</td>\n",
              "            <td>15</td>\n",
              "            <td>2024-02-15</td>\n",
              "        </tr>\n",
              "        <tr>\n",
              "            <td>103</td>\n",
              "            <td>3</td>\n",
              "            <td>2024-03-20</td>\n",
              "        </tr>\n",
              "    </tbody>\n",
              "</table>"
            ]
          },
          "metadata": {},
          "execution_count": 11
        }
      ]
    },
    {
      "cell_type": "code",
      "source": [
        "%sql SELECT * FROM OrderDetails LIMIT 3;"
      ],
      "metadata": {
        "colab": {
          "base_uri": "https://localhost:8080/",
          "height": 139
        },
        "id": "z_Y4bA5IpAPL",
        "outputId": "944f428a-7406-4ed5-dd31-4a50685c7456"
      },
      "execution_count": null,
      "outputs": [
        {
          "output_type": "stream",
          "name": "stdout",
          "text": [
            " * sqlite:///sales.db\n",
            "Done.\n"
          ]
        },
        {
          "output_type": "execute_result",
          "data": {
            "text/plain": [
              "[(1, 101, 1, 5, 100), (2, 102, 2, 10, 200), (3, 103, 3, 8, 160)]"
            ],
            "text/html": [
              "<table>\n",
              "    <thead>\n",
              "        <tr>\n",
              "            <th>OrderDetailID</th>\n",
              "            <th>OrderID</th>\n",
              "            <th>ProductID</th>\n",
              "            <th>Quantity</th>\n",
              "            <th>Sales</th>\n",
              "        </tr>\n",
              "    </thead>\n",
              "    <tbody>\n",
              "        <tr>\n",
              "            <td>1</td>\n",
              "            <td>101</td>\n",
              "            <td>1</td>\n",
              "            <td>5</td>\n",
              "            <td>100</td>\n",
              "        </tr>\n",
              "        <tr>\n",
              "            <td>2</td>\n",
              "            <td>102</td>\n",
              "            <td>2</td>\n",
              "            <td>10</td>\n",
              "            <td>200</td>\n",
              "        </tr>\n",
              "        <tr>\n",
              "            <td>3</td>\n",
              "            <td>103</td>\n",
              "            <td>3</td>\n",
              "            <td>8</td>\n",
              "            <td>160</td>\n",
              "        </tr>\n",
              "    </tbody>\n",
              "</table>"
            ]
          },
          "metadata": {},
          "execution_count": 12
        }
      ]
    },
    {
      "cell_type": "code",
      "source": [
        "%%sql SELECT Customers.CustomerName, Orders.OrderID, Orders.OrderDate\n",
        "FROM Customers\n",
        "LEFT JOIN Orders ON Customers.CustomerID = Orders.CustomerID;"
      ],
      "metadata": {
        "colab": {
          "base_uri": "https://localhost:8080/",
          "height": 588
        },
        "id": "Yk2LzfExrwcW",
        "outputId": "d32c39cb-ee3a-4b1a-d0d0-3c187145e810"
      },
      "execution_count": null,
      "outputs": [
        {
          "output_type": "stream",
          "name": "stdout",
          "text": [
            " * sqlite:///sales.db\n",
            "Done.\n"
          ]
        },
        {
          "output_type": "execute_result",
          "data": {
            "text/plain": [
              "[('John Doe', 101, '2024-01-10'),\n",
              " ('John Doe', 117, '2025-05-30'),\n",
              " ('Jane Smith', 107, '2024-07-10'),\n",
              " ('Jane Smith', 113, '2025-01-10'),\n",
              " ('Alice Johnson', 103, '2024-03-20'),\n",
              " ('Alice Johnson', 109, '2024-09-20'),\n",
              " ('Alice Johnson', 114, '2025-02-15'),\n",
              " ('Alice Johnson', 119, '2025-07-10'),\n",
              " ('Robert Williams', 105, '2024-05-30'),\n",
              " ('Robert Williams', 115, '2025-03-20'),\n",
              " ('Robert Williams', 120, '2025-08-15'),\n",
              " ('Eva Brown', 111, '2024-11-30'),\n",
              " ('Eva Brown', 116, '2025-04-25'),\n",
              " ('David Wilson', 110, '2024-10-25'),\n",
              " ('Grace Taylor', None, None),\n",
              " ('Michael Davis', 118, '2025-06-05'),\n",
              " ('Sophia Martinez', 112, '2024-12-05'),\n",
              " ('Daniel Moore', None, None),\n",
              " ('Olivia Johnson', 108, '2024-08-15'),\n",
              " ('William Garcia', 104, '2024-04-25'),\n",
              " ('Emma Rodriguez', None, None),\n",
              " ('Henry Lee', None, None),\n",
              " ('Sophie Kimani', 102, '2024-02-15'),\n",
              " ('Sophie Kimani', 106, '2024-06-05')]"
            ],
            "text/html": [
              "<table>\n",
              "    <thead>\n",
              "        <tr>\n",
              "            <th>CustomerName</th>\n",
              "            <th>OrderID</th>\n",
              "            <th>OrderDate</th>\n",
              "        </tr>\n",
              "    </thead>\n",
              "    <tbody>\n",
              "        <tr>\n",
              "            <td>John Doe</td>\n",
              "            <td>101</td>\n",
              "            <td>2024-01-10</td>\n",
              "        </tr>\n",
              "        <tr>\n",
              "            <td>John Doe</td>\n",
              "            <td>117</td>\n",
              "            <td>2025-05-30</td>\n",
              "        </tr>\n",
              "        <tr>\n",
              "            <td>Jane Smith</td>\n",
              "            <td>107</td>\n",
              "            <td>2024-07-10</td>\n",
              "        </tr>\n",
              "        <tr>\n",
              "            <td>Jane Smith</td>\n",
              "            <td>113</td>\n",
              "            <td>2025-01-10</td>\n",
              "        </tr>\n",
              "        <tr>\n",
              "            <td>Alice Johnson</td>\n",
              "            <td>103</td>\n",
              "            <td>2024-03-20</td>\n",
              "        </tr>\n",
              "        <tr>\n",
              "            <td>Alice Johnson</td>\n",
              "            <td>109</td>\n",
              "            <td>2024-09-20</td>\n",
              "        </tr>\n",
              "        <tr>\n",
              "            <td>Alice Johnson</td>\n",
              "            <td>114</td>\n",
              "            <td>2025-02-15</td>\n",
              "        </tr>\n",
              "        <tr>\n",
              "            <td>Alice Johnson</td>\n",
              "            <td>119</td>\n",
              "            <td>2025-07-10</td>\n",
              "        </tr>\n",
              "        <tr>\n",
              "            <td>Robert Williams</td>\n",
              "            <td>105</td>\n",
              "            <td>2024-05-30</td>\n",
              "        </tr>\n",
              "        <tr>\n",
              "            <td>Robert Williams</td>\n",
              "            <td>115</td>\n",
              "            <td>2025-03-20</td>\n",
              "        </tr>\n",
              "        <tr>\n",
              "            <td>Robert Williams</td>\n",
              "            <td>120</td>\n",
              "            <td>2025-08-15</td>\n",
              "        </tr>\n",
              "        <tr>\n",
              "            <td>Eva Brown</td>\n",
              "            <td>111</td>\n",
              "            <td>2024-11-30</td>\n",
              "        </tr>\n",
              "        <tr>\n",
              "            <td>Eva Brown</td>\n",
              "            <td>116</td>\n",
              "            <td>2025-04-25</td>\n",
              "        </tr>\n",
              "        <tr>\n",
              "            <td>David Wilson</td>\n",
              "            <td>110</td>\n",
              "            <td>2024-10-25</td>\n",
              "        </tr>\n",
              "        <tr>\n",
              "            <td>Grace Taylor</td>\n",
              "            <td>None</td>\n",
              "            <td>None</td>\n",
              "        </tr>\n",
              "        <tr>\n",
              "            <td>Michael Davis</td>\n",
              "            <td>118</td>\n",
              "            <td>2025-06-05</td>\n",
              "        </tr>\n",
              "        <tr>\n",
              "            <td>Sophia Martinez</td>\n",
              "            <td>112</td>\n",
              "            <td>2024-12-05</td>\n",
              "        </tr>\n",
              "        <tr>\n",
              "            <td>Daniel Moore</td>\n",
              "            <td>None</td>\n",
              "            <td>None</td>\n",
              "        </tr>\n",
              "        <tr>\n",
              "            <td>Olivia Johnson</td>\n",
              "            <td>108</td>\n",
              "            <td>2024-08-15</td>\n",
              "        </tr>\n",
              "        <tr>\n",
              "            <td>William Garcia</td>\n",
              "            <td>104</td>\n",
              "            <td>2024-04-25</td>\n",
              "        </tr>\n",
              "        <tr>\n",
              "            <td>Emma Rodriguez</td>\n",
              "            <td>None</td>\n",
              "            <td>None</td>\n",
              "        </tr>\n",
              "        <tr>\n",
              "            <td>Henry Lee</td>\n",
              "            <td>None</td>\n",
              "            <td>None</td>\n",
              "        </tr>\n",
              "        <tr>\n",
              "            <td>Sophie Kimani</td>\n",
              "            <td>102</td>\n",
              "            <td>2024-02-15</td>\n",
              "        </tr>\n",
              "        <tr>\n",
              "            <td>Sophie Kimani</td>\n",
              "            <td>106</td>\n",
              "            <td>2024-06-05</td>\n",
              "        </tr>\n",
              "    </tbody>\n",
              "</table>"
            ]
          },
          "metadata": {},
          "execution_count": 13
        }
      ]
    },
    {
      "cell_type": "markdown",
      "source": [
        "**Question: Display all orders and their corresponding customers, even if the customer information is missing.**"
      ],
      "metadata": {
        "id": "hmNd8xkUseFC"
      }
    },
    {
      "cell_type": "code",
      "source": [
        "%%sql SELECT Customers.CustomerName, Orders.OrderID, Orders.OrderDate, OrderDetails.Sales\n",
        "FROM Orders\n",
        "RIGHT JOIN Customers ON Orders.CustomerID = Customers.CustomerID;"
      ],
      "metadata": {
        "colab": {
          "base_uri": "https://localhost:8080/"
        },
        "id": "yguJ4ahcrxrp",
        "outputId": "9484b4b4-c85b-41e0-c7cb-82f085d2d308"
      },
      "execution_count": null,
      "outputs": [
        {
          "output_type": "stream",
          "name": "stdout",
          "text": [
            " * sqlite:///sales.db\n",
            "(sqlite3.OperationalError) RIGHT and FULL OUTER JOINs are not currently supported\n",
            "[SQL: SELECT Customers.CustomerName, Orders.OrderID, Orders.OrderDate, OrderDetails.Sales\n",
            "FROM Orders\n",
            "RIGHT JOIN Customers ON Orders.CustomerID = Customers.CustomerID;]\n",
            "(Background on this error at: https://sqlalche.me/e/20/e3q8)\n"
          ]
        }
      ]
    },
    {
      "cell_type": "markdown",
      "source": [
        "**Question: Retrieve the customer name, order date, and sales amount for all orders where customers have placed orders.**"
      ],
      "metadata": {
        "id": "fsMouPmWs3yR"
      }
    },
    {
      "cell_type": "code",
      "source": [
        "%sql select * from Customers limit 3;"
      ],
      "metadata": {
        "id": "Tr1csNsPWJM1",
        "colab": {
          "base_uri": "https://localhost:8080/",
          "height": 139
        },
        "outputId": "064d6d44-0e74-4fe7-b43e-211c1d52dd46"
      },
      "execution_count": null,
      "outputs": [
        {
          "output_type": "stream",
          "name": "stdout",
          "text": [
            " * sqlite:///sales.db\n",
            "Done.\n"
          ]
        },
        {
          "output_type": "execute_result",
          "data": {
            "text/plain": [
              "[(1, 'John Doe', 'John', '123 Main St', 'Nairobi', '12345', 'Kenya'),\n",
              " (2, 'Jane Smith', 'Jane', '456 Oak St', 'Mombasa', '67890', 'Kenya'),\n",
              " (3, 'Alice Johnson', 'Alice', '789 Pine St', 'Kisumu', '54321', 'Kenya')]"
            ],
            "text/html": [
              "<table>\n",
              "    <thead>\n",
              "        <tr>\n",
              "            <th>CustomerID</th>\n",
              "            <th>CustomerName</th>\n",
              "            <th>ContactName</th>\n",
              "            <th>Address</th>\n",
              "            <th>City</th>\n",
              "            <th>PostalCode</th>\n",
              "            <th>Country</th>\n",
              "        </tr>\n",
              "    </thead>\n",
              "    <tbody>\n",
              "        <tr>\n",
              "            <td>1</td>\n",
              "            <td>John Doe</td>\n",
              "            <td>John</td>\n",
              "            <td>123 Main St</td>\n",
              "            <td>Nairobi</td>\n",
              "            <td>12345</td>\n",
              "            <td>Kenya</td>\n",
              "        </tr>\n",
              "        <tr>\n",
              "            <td>2</td>\n",
              "            <td>Jane Smith</td>\n",
              "            <td>Jane</td>\n",
              "            <td>456 Oak St</td>\n",
              "            <td>Mombasa</td>\n",
              "            <td>67890</td>\n",
              "            <td>Kenya</td>\n",
              "        </tr>\n",
              "        <tr>\n",
              "            <td>3</td>\n",
              "            <td>Alice Johnson</td>\n",
              "            <td>Alice</td>\n",
              "            <td>789 Pine St</td>\n",
              "            <td>Kisumu</td>\n",
              "            <td>54321</td>\n",
              "            <td>Kenya</td>\n",
              "        </tr>\n",
              "    </tbody>\n",
              "</table>"
            ]
          },
          "metadata": {},
          "execution_count": 27
        }
      ]
    },
    {
      "cell_type": "code",
      "source": [
        "%sql select * from Orders limit 3;"
      ],
      "metadata": {
        "id": "n2Cfbc-gWJKV",
        "colab": {
          "base_uri": "https://localhost:8080/",
          "height": 139
        },
        "outputId": "ac2ba4a3-9e65-4a1f-91af-5122d281c197"
      },
      "execution_count": null,
      "outputs": [
        {
          "output_type": "stream",
          "name": "stdout",
          "text": [
            " * sqlite:///sales.db\n",
            "Done.\n"
          ]
        },
        {
          "output_type": "execute_result",
          "data": {
            "text/plain": [
              "[(101, 1, '2024-01-10'), (102, 15, '2024-02-15'), (103, 3, '2024-03-20')]"
            ],
            "text/html": [
              "<table>\n",
              "    <thead>\n",
              "        <tr>\n",
              "            <th>OrderID</th>\n",
              "            <th>CustomerID</th>\n",
              "            <th>OrderDate</th>\n",
              "        </tr>\n",
              "    </thead>\n",
              "    <tbody>\n",
              "        <tr>\n",
              "            <td>101</td>\n",
              "            <td>1</td>\n",
              "            <td>2024-01-10</td>\n",
              "        </tr>\n",
              "        <tr>\n",
              "            <td>102</td>\n",
              "            <td>15</td>\n",
              "            <td>2024-02-15</td>\n",
              "        </tr>\n",
              "        <tr>\n",
              "            <td>103</td>\n",
              "            <td>3</td>\n",
              "            <td>2024-03-20</td>\n",
              "        </tr>\n",
              "    </tbody>\n",
              "</table>"
            ]
          },
          "metadata": {},
          "execution_count": 25
        }
      ]
    },
    {
      "cell_type": "code",
      "source": [
        "%sql select * from OrderDetails limit 3;"
      ],
      "metadata": {
        "id": "WZ2mo4-DWJH3",
        "colab": {
          "base_uri": "https://localhost:8080/",
          "height": 139
        },
        "outputId": "4e4d5769-a97c-4269-db83-e670100f0afb"
      },
      "execution_count": null,
      "outputs": [
        {
          "output_type": "stream",
          "name": "stdout",
          "text": [
            " * sqlite:///sales.db\n",
            "Done.\n"
          ]
        },
        {
          "output_type": "execute_result",
          "data": {
            "text/plain": [
              "[(1, 101, 1, 5, 100), (2, 102, 2, 10, 200), (3, 103, 3, 8, 160)]"
            ],
            "text/html": [
              "<table>\n",
              "    <thead>\n",
              "        <tr>\n",
              "            <th>OrderDetailID</th>\n",
              "            <th>OrderID</th>\n",
              "            <th>ProductID</th>\n",
              "            <th>Quantity</th>\n",
              "            <th>Sales</th>\n",
              "        </tr>\n",
              "    </thead>\n",
              "    <tbody>\n",
              "        <tr>\n",
              "            <td>1</td>\n",
              "            <td>101</td>\n",
              "            <td>1</td>\n",
              "            <td>5</td>\n",
              "            <td>100</td>\n",
              "        </tr>\n",
              "        <tr>\n",
              "            <td>2</td>\n",
              "            <td>102</td>\n",
              "            <td>2</td>\n",
              "            <td>10</td>\n",
              "            <td>200</td>\n",
              "        </tr>\n",
              "        <tr>\n",
              "            <td>3</td>\n",
              "            <td>103</td>\n",
              "            <td>3</td>\n",
              "            <td>8</td>\n",
              "            <td>160</td>\n",
              "        </tr>\n",
              "    </tbody>\n",
              "</table>"
            ]
          },
          "metadata": {},
          "execution_count": 26
        }
      ]
    },
    {
      "cell_type": "code",
      "source": [
        "%%sql SELECT Customers.CustomerName,Orders.OrderDate,OrderDetails.Sales\n",
        "from Customers\n",
        "inner join Orders\n",
        "on Customers.CustomerID = Orders.CustomerID\n",
        "inner join OrderDetails\n",
        "on Orders.OrderID = OrderDetails.OrderID;"
      ],
      "metadata": {
        "id": "RryP2LPDWJFd",
        "colab": {
          "base_uri": "https://localhost:8080/",
          "height": 502
        },
        "outputId": "3675ffc6-0788-4b1b-cb90-82f6f3072a64"
      },
      "execution_count": null,
      "outputs": [
        {
          "output_type": "stream",
          "name": "stdout",
          "text": [
            " * sqlite:///sales.db\n",
            "Done.\n"
          ]
        },
        {
          "output_type": "execute_result",
          "data": {
            "text/plain": [
              "[('John Doe', '2024-01-10', 100),\n",
              " ('Sophie Kimani', '2024-02-15', 200),\n",
              " ('Alice Johnson', '2024-03-20', 160),\n",
              " ('William Garcia', '2024-04-25', 240),\n",
              " ('Robert Williams', '2024-05-30', 300),\n",
              " ('Sophie Kimani', '2024-06-05', 400),\n",
              " ('Jane Smith', '2024-07-10', 500),\n",
              " ('Olivia Johnson', '2024-08-15', 600),\n",
              " ('Alice Johnson', '2024-09-20', 100),\n",
              " ('David Wilson', '2024-10-25', 200),\n",
              " ('Eva Brown', '2024-11-30', 300),\n",
              " ('Sophia Martinez', '2024-12-05', 160),\n",
              " ('Jane Smith', '2025-01-10', 120),\n",
              " ('Alice Johnson', '2025-02-15', 200),\n",
              " ('Robert Williams', '2025-03-20', 400),\n",
              " ('Eva Brown', '2025-04-25', 500),\n",
              " ('John Doe', '2025-05-30', 600),\n",
              " ('Michael Davis', '2025-06-05', 300),\n",
              " ('Alice Johnson', '2025-07-10', 200),\n",
              " ('Robert Williams', '2025-08-15', 240)]"
            ],
            "text/html": [
              "<table>\n",
              "    <thead>\n",
              "        <tr>\n",
              "            <th>CustomerName</th>\n",
              "            <th>OrderDate</th>\n",
              "            <th>Sales</th>\n",
              "        </tr>\n",
              "    </thead>\n",
              "    <tbody>\n",
              "        <tr>\n",
              "            <td>John Doe</td>\n",
              "            <td>2024-01-10</td>\n",
              "            <td>100</td>\n",
              "        </tr>\n",
              "        <tr>\n",
              "            <td>Sophie Kimani</td>\n",
              "            <td>2024-02-15</td>\n",
              "            <td>200</td>\n",
              "        </tr>\n",
              "        <tr>\n",
              "            <td>Alice Johnson</td>\n",
              "            <td>2024-03-20</td>\n",
              "            <td>160</td>\n",
              "        </tr>\n",
              "        <tr>\n",
              "            <td>William Garcia</td>\n",
              "            <td>2024-04-25</td>\n",
              "            <td>240</td>\n",
              "        </tr>\n",
              "        <tr>\n",
              "            <td>Robert Williams</td>\n",
              "            <td>2024-05-30</td>\n",
              "            <td>300</td>\n",
              "        </tr>\n",
              "        <tr>\n",
              "            <td>Sophie Kimani</td>\n",
              "            <td>2024-06-05</td>\n",
              "            <td>400</td>\n",
              "        </tr>\n",
              "        <tr>\n",
              "            <td>Jane Smith</td>\n",
              "            <td>2024-07-10</td>\n",
              "            <td>500</td>\n",
              "        </tr>\n",
              "        <tr>\n",
              "            <td>Olivia Johnson</td>\n",
              "            <td>2024-08-15</td>\n",
              "            <td>600</td>\n",
              "        </tr>\n",
              "        <tr>\n",
              "            <td>Alice Johnson</td>\n",
              "            <td>2024-09-20</td>\n",
              "            <td>100</td>\n",
              "        </tr>\n",
              "        <tr>\n",
              "            <td>David Wilson</td>\n",
              "            <td>2024-10-25</td>\n",
              "            <td>200</td>\n",
              "        </tr>\n",
              "        <tr>\n",
              "            <td>Eva Brown</td>\n",
              "            <td>2024-11-30</td>\n",
              "            <td>300</td>\n",
              "        </tr>\n",
              "        <tr>\n",
              "            <td>Sophia Martinez</td>\n",
              "            <td>2024-12-05</td>\n",
              "            <td>160</td>\n",
              "        </tr>\n",
              "        <tr>\n",
              "            <td>Jane Smith</td>\n",
              "            <td>2025-01-10</td>\n",
              "            <td>120</td>\n",
              "        </tr>\n",
              "        <tr>\n",
              "            <td>Alice Johnson</td>\n",
              "            <td>2025-02-15</td>\n",
              "            <td>200</td>\n",
              "        </tr>\n",
              "        <tr>\n",
              "            <td>Robert Williams</td>\n",
              "            <td>2025-03-20</td>\n",
              "            <td>400</td>\n",
              "        </tr>\n",
              "        <tr>\n",
              "            <td>Eva Brown</td>\n",
              "            <td>2025-04-25</td>\n",
              "            <td>500</td>\n",
              "        </tr>\n",
              "        <tr>\n",
              "            <td>John Doe</td>\n",
              "            <td>2025-05-30</td>\n",
              "            <td>600</td>\n",
              "        </tr>\n",
              "        <tr>\n",
              "            <td>Michael Davis</td>\n",
              "            <td>2025-06-05</td>\n",
              "            <td>300</td>\n",
              "        </tr>\n",
              "        <tr>\n",
              "            <td>Alice Johnson</td>\n",
              "            <td>2025-07-10</td>\n",
              "            <td>200</td>\n",
              "        </tr>\n",
              "        <tr>\n",
              "            <td>Robert Williams</td>\n",
              "            <td>2025-08-15</td>\n",
              "            <td>240</td>\n",
              "        </tr>\n",
              "    </tbody>\n",
              "</table>"
            ]
          },
          "metadata": {},
          "execution_count": 33
        }
      ]
    },
    {
      "cell_type": "markdown",
      "source": [
        "# **More sql operations**"
      ],
      "metadata": {
        "id": "89zNicbJT7q4"
      }
    },
    {
      "cell_type": "markdown",
      "source": [
        "**IN keyword**\n",
        "From multiple things"
      ],
      "metadata": {
        "id": "LzvpBpTbU4LL"
      }
    },
    {
      "cell_type": "code",
      "source": [
        "%sql SELECT * FROM CUSTOMERS LIMIT 3;"
      ],
      "metadata": {
        "colab": {
          "base_uri": "https://localhost:8080/",
          "height": 139
        },
        "id": "hm7jhTP5VCM0",
        "outputId": "bb5f810a-ac89-4390-f6fb-8e18fcca4a24"
      },
      "execution_count": null,
      "outputs": [
        {
          "output_type": "stream",
          "name": "stdout",
          "text": [
            " * sqlite:///sales.db\n",
            "Done.\n"
          ]
        },
        {
          "output_type": "execute_result",
          "data": {
            "text/plain": [
              "[(1, 'John Doe', 'John', '123 Main St', 'Nairobi', '12345', 'Kenya'),\n",
              " (2, 'Jane Smith', 'Jane', '456 Oak St', 'Mombasa', '67890', 'Kenya'),\n",
              " (3, 'Alice Johnson', 'Alice', '789 Pine St', 'Kisumu', '54321', 'Kenya')]"
            ],
            "text/html": [
              "<table>\n",
              "    <thead>\n",
              "        <tr>\n",
              "            <th>CustomerID</th>\n",
              "            <th>CustomerName</th>\n",
              "            <th>ContactName</th>\n",
              "            <th>Address</th>\n",
              "            <th>City</th>\n",
              "            <th>PostalCode</th>\n",
              "            <th>Country</th>\n",
              "        </tr>\n",
              "    </thead>\n",
              "    <tbody>\n",
              "        <tr>\n",
              "            <td>1</td>\n",
              "            <td>John Doe</td>\n",
              "            <td>John</td>\n",
              "            <td>123 Main St</td>\n",
              "            <td>Nairobi</td>\n",
              "            <td>12345</td>\n",
              "            <td>Kenya</td>\n",
              "        </tr>\n",
              "        <tr>\n",
              "            <td>2</td>\n",
              "            <td>Jane Smith</td>\n",
              "            <td>Jane</td>\n",
              "            <td>456 Oak St</td>\n",
              "            <td>Mombasa</td>\n",
              "            <td>67890</td>\n",
              "            <td>Kenya</td>\n",
              "        </tr>\n",
              "        <tr>\n",
              "            <td>3</td>\n",
              "            <td>Alice Johnson</td>\n",
              "            <td>Alice</td>\n",
              "            <td>789 Pine St</td>\n",
              "            <td>Kisumu</td>\n",
              "            <td>54321</td>\n",
              "            <td>Kenya</td>\n",
              "        </tr>\n",
              "    </tbody>\n",
              "</table>"
            ]
          },
          "metadata": {},
          "execution_count": 18
        }
      ]
    },
    {
      "cell_type": "code",
      "source": [
        "%%sql SELECT * FROM CUSTOMERS\n",
        "WHERE City = 'Kisumu';"
      ],
      "metadata": {
        "colab": {
          "base_uri": "https://localhost:8080/",
          "height": 96
        },
        "id": "KHFivbyVsvRH",
        "outputId": "5fcedc12-9396-4347-afbe-836c146b6831"
      },
      "execution_count": null,
      "outputs": [
        {
          "output_type": "stream",
          "name": "stdout",
          "text": [
            " * sqlite:///sales.db\n",
            "Done.\n"
          ]
        },
        {
          "output_type": "execute_result",
          "data": {
            "text/plain": [
              "[(3, 'Alice Johnson', 'Alice', '789 Pine St', 'Kisumu', '54321', 'Kenya')]"
            ],
            "text/html": [
              "<table>\n",
              "    <thead>\n",
              "        <tr>\n",
              "            <th>CustomerID</th>\n",
              "            <th>CustomerName</th>\n",
              "            <th>ContactName</th>\n",
              "            <th>Address</th>\n",
              "            <th>City</th>\n",
              "            <th>PostalCode</th>\n",
              "            <th>Country</th>\n",
              "        </tr>\n",
              "    </thead>\n",
              "    <tbody>\n",
              "        <tr>\n",
              "            <td>3</td>\n",
              "            <td>Alice Johnson</td>\n",
              "            <td>Alice</td>\n",
              "            <td>789 Pine St</td>\n",
              "            <td>Kisumu</td>\n",
              "            <td>54321</td>\n",
              "            <td>Kenya</td>\n",
              "        </tr>\n",
              "    </tbody>\n",
              "</table>"
            ]
          },
          "metadata": {},
          "execution_count": 16
        }
      ]
    },
    {
      "cell_type": "code",
      "source": [
        "%%sql SELECT * FROM Customers\n",
        "WHERE City IN ('Nairobi','Kisumu','Mombasa');"
      ],
      "metadata": {
        "id": "AONLrb-hWJAg",
        "colab": {
          "base_uri": "https://localhost:8080/",
          "height": 139
        },
        "outputId": "69765c4d-dae0-4cea-86c4-a97817f26d1e"
      },
      "execution_count": null,
      "outputs": [
        {
          "output_type": "stream",
          "name": "stdout",
          "text": [
            " * sqlite:///sales.db\n",
            "Done.\n"
          ]
        },
        {
          "output_type": "execute_result",
          "data": {
            "text/plain": [
              "[(1, 'John Doe', 'John', '123 Main St', 'Nairobi', '12345', 'Kenya'),\n",
              " (2, 'Jane Smith', 'Jane', '456 Oak St', 'Mombasa', '67890', 'Kenya'),\n",
              " (3, 'Alice Johnson', 'Alice', '789 Pine St', 'Kisumu', '54321', 'Kenya')]"
            ],
            "text/html": [
              "<table>\n",
              "    <thead>\n",
              "        <tr>\n",
              "            <th>CustomerID</th>\n",
              "            <th>CustomerName</th>\n",
              "            <th>ContactName</th>\n",
              "            <th>Address</th>\n",
              "            <th>City</th>\n",
              "            <th>PostalCode</th>\n",
              "            <th>Country</th>\n",
              "        </tr>\n",
              "    </thead>\n",
              "    <tbody>\n",
              "        <tr>\n",
              "            <td>1</td>\n",
              "            <td>John Doe</td>\n",
              "            <td>John</td>\n",
              "            <td>123 Main St</td>\n",
              "            <td>Nairobi</td>\n",
              "            <td>12345</td>\n",
              "            <td>Kenya</td>\n",
              "        </tr>\n",
              "        <tr>\n",
              "            <td>2</td>\n",
              "            <td>Jane Smith</td>\n",
              "            <td>Jane</td>\n",
              "            <td>456 Oak St</td>\n",
              "            <td>Mombasa</td>\n",
              "            <td>67890</td>\n",
              "            <td>Kenya</td>\n",
              "        </tr>\n",
              "        <tr>\n",
              "            <td>3</td>\n",
              "            <td>Alice Johnson</td>\n",
              "            <td>Alice</td>\n",
              "            <td>789 Pine St</td>\n",
              "            <td>Kisumu</td>\n",
              "            <td>54321</td>\n",
              "            <td>Kenya</td>\n",
              "        </tr>\n",
              "    </tbody>\n",
              "</table>"
            ]
          },
          "metadata": {},
          "execution_count": 20
        }
      ]
    },
    {
      "cell_type": "markdown",
      "source": [
        "**Symbols; >, <, <>, BETWEEN**"
      ],
      "metadata": {
        "id": "1Qi-otSbVdZY"
      }
    },
    {
      "cell_type": "code",
      "source": [
        "%sql select * from OrderDetails limit 3;"
      ],
      "metadata": {
        "id": "t2SlbcPEWI7Y",
        "colab": {
          "base_uri": "https://localhost:8080/",
          "height": 139
        },
        "outputId": "59274b23-b58b-41fc-a568-6c17e6e38319"
      },
      "execution_count": null,
      "outputs": [
        {
          "output_type": "stream",
          "name": "stdout",
          "text": [
            " * sqlite:///sales.db\n",
            "Done.\n"
          ]
        },
        {
          "output_type": "execute_result",
          "data": {
            "text/plain": [
              "[(1, 101, 1, 5, 100), (2, 102, 2, 10, 200), (3, 103, 3, 8, 160)]"
            ],
            "text/html": [
              "<table>\n",
              "    <thead>\n",
              "        <tr>\n",
              "            <th>OrderDetailID</th>\n",
              "            <th>OrderID</th>\n",
              "            <th>ProductID</th>\n",
              "            <th>Quantity</th>\n",
              "            <th>Sales</th>\n",
              "        </tr>\n",
              "    </thead>\n",
              "    <tbody>\n",
              "        <tr>\n",
              "            <td>1</td>\n",
              "            <td>101</td>\n",
              "            <td>1</td>\n",
              "            <td>5</td>\n",
              "            <td>100</td>\n",
              "        </tr>\n",
              "        <tr>\n",
              "            <td>2</td>\n",
              "            <td>102</td>\n",
              "            <td>2</td>\n",
              "            <td>10</td>\n",
              "            <td>200</td>\n",
              "        </tr>\n",
              "        <tr>\n",
              "            <td>3</td>\n",
              "            <td>103</td>\n",
              "            <td>3</td>\n",
              "            <td>8</td>\n",
              "            <td>160</td>\n",
              "        </tr>\n",
              "    </tbody>\n",
              "</table>"
            ]
          },
          "metadata": {},
          "execution_count": 21
        }
      ]
    },
    {
      "cell_type": "code",
      "source": [
        "%%sql SELECT * FROM OrderDetails\n",
        "WHERE Sales >= 200;"
      ],
      "metadata": {
        "id": "NKIciQfmWI44",
        "colab": {
          "base_uri": "https://localhost:8080/",
          "height": 395
        },
        "outputId": "0134190c-23ab-48a2-e9a0-bb0d66f384c0"
      },
      "execution_count": null,
      "outputs": [
        {
          "output_type": "stream",
          "name": "stdout",
          "text": [
            " * sqlite:///sales.db\n",
            "Done.\n"
          ]
        },
        {
          "output_type": "execute_result",
          "data": {
            "text/plain": [
              "[(2, 102, 2, 10, 200),\n",
              " (4, 104, 4, 12, 240),\n",
              " (5, 105, 5, 15, 300),\n",
              " (6, 106, 6, 20, 400),\n",
              " (7, 107, 7, 25, 500),\n",
              " (8, 108, 8, 30, 600),\n",
              " (10, 110, 10, 10, 200),\n",
              " (11, 111, 11, 15, 300),\n",
              " (14, 114, 14, 10, 200),\n",
              " (15, 115, 15, 20, 400),\n",
              " (16, 116, 1, 25, 500),\n",
              " (17, 117, 2, 30, 600),\n",
              " (18, 118, 3, 15, 300),\n",
              " (19, 119, 4, 10, 200),\n",
              " (20, 120, 5, 12, 240)]"
            ],
            "text/html": [
              "<table>\n",
              "    <thead>\n",
              "        <tr>\n",
              "            <th>OrderDetailID</th>\n",
              "            <th>OrderID</th>\n",
              "            <th>ProductID</th>\n",
              "            <th>Quantity</th>\n",
              "            <th>Sales</th>\n",
              "        </tr>\n",
              "    </thead>\n",
              "    <tbody>\n",
              "        <tr>\n",
              "            <td>2</td>\n",
              "            <td>102</td>\n",
              "            <td>2</td>\n",
              "            <td>10</td>\n",
              "            <td>200</td>\n",
              "        </tr>\n",
              "        <tr>\n",
              "            <td>4</td>\n",
              "            <td>104</td>\n",
              "            <td>4</td>\n",
              "            <td>12</td>\n",
              "            <td>240</td>\n",
              "        </tr>\n",
              "        <tr>\n",
              "            <td>5</td>\n",
              "            <td>105</td>\n",
              "            <td>5</td>\n",
              "            <td>15</td>\n",
              "            <td>300</td>\n",
              "        </tr>\n",
              "        <tr>\n",
              "            <td>6</td>\n",
              "            <td>106</td>\n",
              "            <td>6</td>\n",
              "            <td>20</td>\n",
              "            <td>400</td>\n",
              "        </tr>\n",
              "        <tr>\n",
              "            <td>7</td>\n",
              "            <td>107</td>\n",
              "            <td>7</td>\n",
              "            <td>25</td>\n",
              "            <td>500</td>\n",
              "        </tr>\n",
              "        <tr>\n",
              "            <td>8</td>\n",
              "            <td>108</td>\n",
              "            <td>8</td>\n",
              "            <td>30</td>\n",
              "            <td>600</td>\n",
              "        </tr>\n",
              "        <tr>\n",
              "            <td>10</td>\n",
              "            <td>110</td>\n",
              "            <td>10</td>\n",
              "            <td>10</td>\n",
              "            <td>200</td>\n",
              "        </tr>\n",
              "        <tr>\n",
              "            <td>11</td>\n",
              "            <td>111</td>\n",
              "            <td>11</td>\n",
              "            <td>15</td>\n",
              "            <td>300</td>\n",
              "        </tr>\n",
              "        <tr>\n",
              "            <td>14</td>\n",
              "            <td>114</td>\n",
              "            <td>14</td>\n",
              "            <td>10</td>\n",
              "            <td>200</td>\n",
              "        </tr>\n",
              "        <tr>\n",
              "            <td>15</td>\n",
              "            <td>115</td>\n",
              "            <td>15</td>\n",
              "            <td>20</td>\n",
              "            <td>400</td>\n",
              "        </tr>\n",
              "        <tr>\n",
              "            <td>16</td>\n",
              "            <td>116</td>\n",
              "            <td>1</td>\n",
              "            <td>25</td>\n",
              "            <td>500</td>\n",
              "        </tr>\n",
              "        <tr>\n",
              "            <td>17</td>\n",
              "            <td>117</td>\n",
              "            <td>2</td>\n",
              "            <td>30</td>\n",
              "            <td>600</td>\n",
              "        </tr>\n",
              "        <tr>\n",
              "            <td>18</td>\n",
              "            <td>118</td>\n",
              "            <td>3</td>\n",
              "            <td>15</td>\n",
              "            <td>300</td>\n",
              "        </tr>\n",
              "        <tr>\n",
              "            <td>19</td>\n",
              "            <td>119</td>\n",
              "            <td>4</td>\n",
              "            <td>10</td>\n",
              "            <td>200</td>\n",
              "        </tr>\n",
              "        <tr>\n",
              "            <td>20</td>\n",
              "            <td>120</td>\n",
              "            <td>5</td>\n",
              "            <td>12</td>\n",
              "            <td>240</td>\n",
              "        </tr>\n",
              "    </tbody>\n",
              "</table>"
            ]
          },
          "metadata": {},
          "execution_count": 23
        }
      ]
    },
    {
      "cell_type": "code",
      "source": [
        "%%sql SELECT * FROM OrderDetails\n",
        "WHERE Sales <= 200;"
      ],
      "metadata": {
        "id": "snu5O6RuWI2d",
        "colab": {
          "base_uri": "https://localhost:8080/",
          "height": 267
        },
        "outputId": "9e882544-0ad6-4178-ca30-d28b1771873c"
      },
      "execution_count": null,
      "outputs": [
        {
          "output_type": "stream",
          "name": "stdout",
          "text": [
            " * sqlite:///sales.db\n",
            "Done.\n"
          ]
        },
        {
          "output_type": "execute_result",
          "data": {
            "text/plain": [
              "[(1, 101, 1, 5, 100),\n",
              " (2, 102, 2, 10, 200),\n",
              " (3, 103, 3, 8, 160),\n",
              " (9, 109, 9, 5, 100),\n",
              " (10, 110, 10, 10, 200),\n",
              " (12, 112, 12, 8, 160),\n",
              " (13, 113, 13, 6, 120),\n",
              " (14, 114, 14, 10, 200),\n",
              " (19, 119, 4, 10, 200)]"
            ],
            "text/html": [
              "<table>\n",
              "    <thead>\n",
              "        <tr>\n",
              "            <th>OrderDetailID</th>\n",
              "            <th>OrderID</th>\n",
              "            <th>ProductID</th>\n",
              "            <th>Quantity</th>\n",
              "            <th>Sales</th>\n",
              "        </tr>\n",
              "    </thead>\n",
              "    <tbody>\n",
              "        <tr>\n",
              "            <td>1</td>\n",
              "            <td>101</td>\n",
              "            <td>1</td>\n",
              "            <td>5</td>\n",
              "            <td>100</td>\n",
              "        </tr>\n",
              "        <tr>\n",
              "            <td>2</td>\n",
              "            <td>102</td>\n",
              "            <td>2</td>\n",
              "            <td>10</td>\n",
              "            <td>200</td>\n",
              "        </tr>\n",
              "        <tr>\n",
              "            <td>3</td>\n",
              "            <td>103</td>\n",
              "            <td>3</td>\n",
              "            <td>8</td>\n",
              "            <td>160</td>\n",
              "        </tr>\n",
              "        <tr>\n",
              "            <td>9</td>\n",
              "            <td>109</td>\n",
              "            <td>9</td>\n",
              "            <td>5</td>\n",
              "            <td>100</td>\n",
              "        </tr>\n",
              "        <tr>\n",
              "            <td>10</td>\n",
              "            <td>110</td>\n",
              "            <td>10</td>\n",
              "            <td>10</td>\n",
              "            <td>200</td>\n",
              "        </tr>\n",
              "        <tr>\n",
              "            <td>12</td>\n",
              "            <td>112</td>\n",
              "            <td>12</td>\n",
              "            <td>8</td>\n",
              "            <td>160</td>\n",
              "        </tr>\n",
              "        <tr>\n",
              "            <td>13</td>\n",
              "            <td>113</td>\n",
              "            <td>13</td>\n",
              "            <td>6</td>\n",
              "            <td>120</td>\n",
              "        </tr>\n",
              "        <tr>\n",
              "            <td>14</td>\n",
              "            <td>114</td>\n",
              "            <td>14</td>\n",
              "            <td>10</td>\n",
              "            <td>200</td>\n",
              "        </tr>\n",
              "        <tr>\n",
              "            <td>19</td>\n",
              "            <td>119</td>\n",
              "            <td>4</td>\n",
              "            <td>10</td>\n",
              "            <td>200</td>\n",
              "        </tr>\n",
              "    </tbody>\n",
              "</table>"
            ]
          },
          "metadata": {},
          "execution_count": 25
        }
      ]
    },
    {
      "cell_type": "code",
      "source": [
        "%%sql SELECT * FROM OrderDetails\n",
        "WHERE Sales <> 200;"
      ],
      "metadata": {
        "id": "SjteDWU1Wf9i",
        "outputId": "97420003-fa02-4272-e72f-789f5c875675",
        "colab": {
          "base_uri": "https://localhost:8080/",
          "height": 417
        }
      },
      "execution_count": null,
      "outputs": [
        {
          "output_type": "stream",
          "name": "stdout",
          "text": [
            " * sqlite:///sales.db\n",
            "Done.\n"
          ]
        },
        {
          "output_type": "execute_result",
          "data": {
            "text/plain": [
              "[(1, 101, 1, 5, 100),\n",
              " (3, 103, 3, 8, 160),\n",
              " (4, 104, 4, 12, 240),\n",
              " (5, 105, 5, 15, 300),\n",
              " (6, 106, 6, 20, 400),\n",
              " (7, 107, 7, 25, 500),\n",
              " (8, 108, 8, 30, 600),\n",
              " (9, 109, 9, 5, 100),\n",
              " (11, 111, 11, 15, 300),\n",
              " (12, 112, 12, 8, 160),\n",
              " (13, 113, 13, 6, 120),\n",
              " (15, 115, 15, 20, 400),\n",
              " (16, 116, 1, 25, 500),\n",
              " (17, 117, 2, 30, 600),\n",
              " (18, 118, 3, 15, 300),\n",
              " (20, 120, 5, 12, 240)]"
            ],
            "text/html": [
              "<table>\n",
              "    <thead>\n",
              "        <tr>\n",
              "            <th>OrderDetailID</th>\n",
              "            <th>OrderID</th>\n",
              "            <th>ProductID</th>\n",
              "            <th>Quantity</th>\n",
              "            <th>Sales</th>\n",
              "        </tr>\n",
              "    </thead>\n",
              "    <tbody>\n",
              "        <tr>\n",
              "            <td>1</td>\n",
              "            <td>101</td>\n",
              "            <td>1</td>\n",
              "            <td>5</td>\n",
              "            <td>100</td>\n",
              "        </tr>\n",
              "        <tr>\n",
              "            <td>3</td>\n",
              "            <td>103</td>\n",
              "            <td>3</td>\n",
              "            <td>8</td>\n",
              "            <td>160</td>\n",
              "        </tr>\n",
              "        <tr>\n",
              "            <td>4</td>\n",
              "            <td>104</td>\n",
              "            <td>4</td>\n",
              "            <td>12</td>\n",
              "            <td>240</td>\n",
              "        </tr>\n",
              "        <tr>\n",
              "            <td>5</td>\n",
              "            <td>105</td>\n",
              "            <td>5</td>\n",
              "            <td>15</td>\n",
              "            <td>300</td>\n",
              "        </tr>\n",
              "        <tr>\n",
              "            <td>6</td>\n",
              "            <td>106</td>\n",
              "            <td>6</td>\n",
              "            <td>20</td>\n",
              "            <td>400</td>\n",
              "        </tr>\n",
              "        <tr>\n",
              "            <td>7</td>\n",
              "            <td>107</td>\n",
              "            <td>7</td>\n",
              "            <td>25</td>\n",
              "            <td>500</td>\n",
              "        </tr>\n",
              "        <tr>\n",
              "            <td>8</td>\n",
              "            <td>108</td>\n",
              "            <td>8</td>\n",
              "            <td>30</td>\n",
              "            <td>600</td>\n",
              "        </tr>\n",
              "        <tr>\n",
              "            <td>9</td>\n",
              "            <td>109</td>\n",
              "            <td>9</td>\n",
              "            <td>5</td>\n",
              "            <td>100</td>\n",
              "        </tr>\n",
              "        <tr>\n",
              "            <td>11</td>\n",
              "            <td>111</td>\n",
              "            <td>11</td>\n",
              "            <td>15</td>\n",
              "            <td>300</td>\n",
              "        </tr>\n",
              "        <tr>\n",
              "            <td>12</td>\n",
              "            <td>112</td>\n",
              "            <td>12</td>\n",
              "            <td>8</td>\n",
              "            <td>160</td>\n",
              "        </tr>\n",
              "        <tr>\n",
              "            <td>13</td>\n",
              "            <td>113</td>\n",
              "            <td>13</td>\n",
              "            <td>6</td>\n",
              "            <td>120</td>\n",
              "        </tr>\n",
              "        <tr>\n",
              "            <td>15</td>\n",
              "            <td>115</td>\n",
              "            <td>15</td>\n",
              "            <td>20</td>\n",
              "            <td>400</td>\n",
              "        </tr>\n",
              "        <tr>\n",
              "            <td>16</td>\n",
              "            <td>116</td>\n",
              "            <td>1</td>\n",
              "            <td>25</td>\n",
              "            <td>500</td>\n",
              "        </tr>\n",
              "        <tr>\n",
              "            <td>17</td>\n",
              "            <td>117</td>\n",
              "            <td>2</td>\n",
              "            <td>30</td>\n",
              "            <td>600</td>\n",
              "        </tr>\n",
              "        <tr>\n",
              "            <td>18</td>\n",
              "            <td>118</td>\n",
              "            <td>3</td>\n",
              "            <td>15</td>\n",
              "            <td>300</td>\n",
              "        </tr>\n",
              "        <tr>\n",
              "            <td>20</td>\n",
              "            <td>120</td>\n",
              "            <td>5</td>\n",
              "            <td>12</td>\n",
              "            <td>240</td>\n",
              "        </tr>\n",
              "    </tbody>\n",
              "</table>"
            ]
          },
          "metadata": {},
          "execution_count": 26
        }
      ]
    },
    {
      "cell_type": "code",
      "source": [
        "%%sql SELECT * FROM OrderDetails\n",
        "WHERE Sales BETWEEN 200 AND 300;"
      ],
      "metadata": {
        "id": "Yhb0MkzeWI0E",
        "colab": {
          "base_uri": "https://localhost:8080/",
          "height": 267
        },
        "outputId": "2bc82ab2-3c67-4415-c2c6-3f983d46d801"
      },
      "execution_count": null,
      "outputs": [
        {
          "output_type": "stream",
          "name": "stdout",
          "text": [
            " * sqlite:///sales.db\n",
            "Done.\n"
          ]
        },
        {
          "output_type": "execute_result",
          "data": {
            "text/plain": [
              "[(2, 102, 2, 10, 200),\n",
              " (4, 104, 4, 12, 240),\n",
              " (5, 105, 5, 15, 300),\n",
              " (10, 110, 10, 10, 200),\n",
              " (11, 111, 11, 15, 300),\n",
              " (14, 114, 14, 10, 200),\n",
              " (18, 118, 3, 15, 300),\n",
              " (19, 119, 4, 10, 200),\n",
              " (20, 120, 5, 12, 240)]"
            ],
            "text/html": [
              "<table>\n",
              "    <thead>\n",
              "        <tr>\n",
              "            <th>OrderDetailID</th>\n",
              "            <th>OrderID</th>\n",
              "            <th>ProductID</th>\n",
              "            <th>Quantity</th>\n",
              "            <th>Sales</th>\n",
              "        </tr>\n",
              "    </thead>\n",
              "    <tbody>\n",
              "        <tr>\n",
              "            <td>2</td>\n",
              "            <td>102</td>\n",
              "            <td>2</td>\n",
              "            <td>10</td>\n",
              "            <td>200</td>\n",
              "        </tr>\n",
              "        <tr>\n",
              "            <td>4</td>\n",
              "            <td>104</td>\n",
              "            <td>4</td>\n",
              "            <td>12</td>\n",
              "            <td>240</td>\n",
              "        </tr>\n",
              "        <tr>\n",
              "            <td>5</td>\n",
              "            <td>105</td>\n",
              "            <td>5</td>\n",
              "            <td>15</td>\n",
              "            <td>300</td>\n",
              "        </tr>\n",
              "        <tr>\n",
              "            <td>10</td>\n",
              "            <td>110</td>\n",
              "            <td>10</td>\n",
              "            <td>10</td>\n",
              "            <td>200</td>\n",
              "        </tr>\n",
              "        <tr>\n",
              "            <td>11</td>\n",
              "            <td>111</td>\n",
              "            <td>11</td>\n",
              "            <td>15</td>\n",
              "            <td>300</td>\n",
              "        </tr>\n",
              "        <tr>\n",
              "            <td>14</td>\n",
              "            <td>114</td>\n",
              "            <td>14</td>\n",
              "            <td>10</td>\n",
              "            <td>200</td>\n",
              "        </tr>\n",
              "        <tr>\n",
              "            <td>18</td>\n",
              "            <td>118</td>\n",
              "            <td>3</td>\n",
              "            <td>15</td>\n",
              "            <td>300</td>\n",
              "        </tr>\n",
              "        <tr>\n",
              "            <td>19</td>\n",
              "            <td>119</td>\n",
              "            <td>4</td>\n",
              "            <td>10</td>\n",
              "            <td>200</td>\n",
              "        </tr>\n",
              "        <tr>\n",
              "            <td>20</td>\n",
              "            <td>120</td>\n",
              "            <td>5</td>\n",
              "            <td>12</td>\n",
              "            <td>240</td>\n",
              "        </tr>\n",
              "    </tbody>\n",
              "</table>"
            ]
          },
          "metadata": {},
          "execution_count": 17
        }
      ]
    },
    {
      "cell_type": "markdown",
      "source": [
        "**LIKE**"
      ],
      "metadata": {
        "id": "B1igBgzot1H9"
      }
    },
    {
      "cell_type": "code",
      "source": [
        "%sql SELECT * FROM Customers LIMIT 5;"
      ],
      "metadata": {
        "id": "Oyt0p9BKWIvM",
        "colab": {
          "base_uri": "https://localhost:8080/",
          "height": 182
        },
        "outputId": "3776838e-e022-4be0-f518-28c372bd6bf5"
      },
      "execution_count": null,
      "outputs": [
        {
          "output_type": "stream",
          "name": "stdout",
          "text": [
            " * sqlite:///sales.db\n",
            "Done.\n"
          ]
        },
        {
          "output_type": "execute_result",
          "data": {
            "text/plain": [
              "[(1, 'John Doe', 'John', '123 Main St', 'Nairobi', '12345', 'Kenya'),\n",
              " (2, 'Jane Smith', 'Jane', '456 Oak St', 'Mombasa', '67890', 'Kenya'),\n",
              " (3, 'Alice Johnson', 'Alice', '789 Pine St', 'Kisumu', '54321', 'Kenya'),\n",
              " (4, 'Robert Williams', 'Robert', '101 Cedar St', 'Nakuru', '98765', 'Kenya'),\n",
              " (5, 'Eva Brown', 'Eva', '202 Maple St', 'Eldoret', '24680', 'Kenya')]"
            ],
            "text/html": [
              "<table>\n",
              "    <thead>\n",
              "        <tr>\n",
              "            <th>CustomerID</th>\n",
              "            <th>CustomerName</th>\n",
              "            <th>ContactName</th>\n",
              "            <th>Address</th>\n",
              "            <th>City</th>\n",
              "            <th>PostalCode</th>\n",
              "            <th>Country</th>\n",
              "        </tr>\n",
              "    </thead>\n",
              "    <tbody>\n",
              "        <tr>\n",
              "            <td>1</td>\n",
              "            <td>John Doe</td>\n",
              "            <td>John</td>\n",
              "            <td>123 Main St</td>\n",
              "            <td>Nairobi</td>\n",
              "            <td>12345</td>\n",
              "            <td>Kenya</td>\n",
              "        </tr>\n",
              "        <tr>\n",
              "            <td>2</td>\n",
              "            <td>Jane Smith</td>\n",
              "            <td>Jane</td>\n",
              "            <td>456 Oak St</td>\n",
              "            <td>Mombasa</td>\n",
              "            <td>67890</td>\n",
              "            <td>Kenya</td>\n",
              "        </tr>\n",
              "        <tr>\n",
              "            <td>3</td>\n",
              "            <td>Alice Johnson</td>\n",
              "            <td>Alice</td>\n",
              "            <td>789 Pine St</td>\n",
              "            <td>Kisumu</td>\n",
              "            <td>54321</td>\n",
              "            <td>Kenya</td>\n",
              "        </tr>\n",
              "        <tr>\n",
              "            <td>4</td>\n",
              "            <td>Robert Williams</td>\n",
              "            <td>Robert</td>\n",
              "            <td>101 Cedar St</td>\n",
              "            <td>Nakuru</td>\n",
              "            <td>98765</td>\n",
              "            <td>Kenya</td>\n",
              "        </tr>\n",
              "        <tr>\n",
              "            <td>5</td>\n",
              "            <td>Eva Brown</td>\n",
              "            <td>Eva</td>\n",
              "            <td>202 Maple St</td>\n",
              "            <td>Eldoret</td>\n",
              "            <td>24680</td>\n",
              "            <td>Kenya</td>\n",
              "        </tr>\n",
              "    </tbody>\n",
              "</table>"
            ]
          },
          "metadata": {},
          "execution_count": 27
        }
      ]
    },
    {
      "cell_type": "code",
      "source": [
        "# Rows whose names start with J"
      ],
      "metadata": {
        "id": "yaInT1BNWIsp"
      },
      "execution_count": null,
      "outputs": []
    },
    {
      "cell_type": "code",
      "source": [
        "%%sql SELECT * FROM CUSTOMERS\n",
        "WHERE CustomerName LIKE 'A%';"
      ],
      "metadata": {
        "id": "jy87a7u7WIqL",
        "colab": {
          "base_uri": "https://localhost:8080/",
          "height": 96
        },
        "outputId": "5291cf22-b6d2-46b8-b1c5-b70b999d8ae4"
      },
      "execution_count": null,
      "outputs": [
        {
          "output_type": "stream",
          "name": "stdout",
          "text": [
            " * sqlite:///sales.db\n",
            "Done.\n"
          ]
        },
        {
          "output_type": "execute_result",
          "data": {
            "text/plain": [
              "[(3, 'Alice Johnson', 'Alice', '789 Pine St', 'Kisumu', '54321', 'Kenya')]"
            ],
            "text/html": [
              "<table>\n",
              "    <thead>\n",
              "        <tr>\n",
              "            <th>CustomerID</th>\n",
              "            <th>CustomerName</th>\n",
              "            <th>ContactName</th>\n",
              "            <th>Address</th>\n",
              "            <th>City</th>\n",
              "            <th>PostalCode</th>\n",
              "            <th>Country</th>\n",
              "        </tr>\n",
              "    </thead>\n",
              "    <tbody>\n",
              "        <tr>\n",
              "            <td>3</td>\n",
              "            <td>Alice Johnson</td>\n",
              "            <td>Alice</td>\n",
              "            <td>789 Pine St</td>\n",
              "            <td>Kisumu</td>\n",
              "            <td>54321</td>\n",
              "            <td>Kenya</td>\n",
              "        </tr>\n",
              "    </tbody>\n",
              "</table>"
            ]
          },
          "metadata": {},
          "execution_count": 34
        }
      ]
    },
    {
      "cell_type": "code",
      "source": [
        "%%sql SELECT * FROM CUSTOMERS\n",
        "WHERE CustomerName LIKE '%oo%';"
      ],
      "metadata": {
        "id": "QVCZXHTzWInk",
        "colab": {
          "base_uri": "https://localhost:8080/",
          "height": 96
        },
        "outputId": "7554399b-ce6a-46c5-dd1b-036b778a71e7"
      },
      "execution_count": null,
      "outputs": [
        {
          "output_type": "stream",
          "name": "stdout",
          "text": [
            " * sqlite:///sales.db\n",
            "Done.\n"
          ]
        },
        {
          "output_type": "execute_result",
          "data": {
            "text/plain": [
              "[(10, 'Daniel Moore', 'Daniel', '707 Cedar St', 'Kisii', '68374', 'Kenya')]"
            ],
            "text/html": [
              "<table>\n",
              "    <thead>\n",
              "        <tr>\n",
              "            <th>CustomerID</th>\n",
              "            <th>CustomerName</th>\n",
              "            <th>ContactName</th>\n",
              "            <th>Address</th>\n",
              "            <th>City</th>\n",
              "            <th>PostalCode</th>\n",
              "            <th>Country</th>\n",
              "        </tr>\n",
              "    </thead>\n",
              "    <tbody>\n",
              "        <tr>\n",
              "            <td>10</td>\n",
              "            <td>Daniel Moore</td>\n",
              "            <td>Daniel</td>\n",
              "            <td>707 Cedar St</td>\n",
              "            <td>Kisii</td>\n",
              "            <td>68374</td>\n",
              "            <td>Kenya</td>\n",
              "        </tr>\n",
              "    </tbody>\n",
              "</table>"
            ]
          },
          "metadata": {},
          "execution_count": 32
        }
      ]
    },
    {
      "cell_type": "code",
      "source": [],
      "metadata": {
        "id": "0oxNMXmyWIk0"
      },
      "execution_count": null,
      "outputs": []
    },
    {
      "cell_type": "code",
      "source": [],
      "metadata": {
        "id": "0nlN2l4zWIiY"
      },
      "execution_count": null,
      "outputs": []
    },
    {
      "cell_type": "code",
      "source": [],
      "metadata": {
        "id": "z0KTb1HzWIgE"
      },
      "execution_count": null,
      "outputs": []
    },
    {
      "cell_type": "code",
      "source": [],
      "metadata": {
        "id": "j8_CdYQpWIdm"
      },
      "execution_count": null,
      "outputs": []
    },
    {
      "cell_type": "code",
      "source": [],
      "metadata": {
        "id": "zg3t9zeTWIbI"
      },
      "execution_count": null,
      "outputs": []
    },
    {
      "cell_type": "code",
      "source": [],
      "metadata": {
        "id": "HU1XzCAbWIY-"
      },
      "execution_count": null,
      "outputs": []
    },
    {
      "cell_type": "code",
      "source": [],
      "metadata": {
        "id": "JUKD007fWIWY"
      },
      "execution_count": null,
      "outputs": []
    },
    {
      "cell_type": "code",
      "source": [],
      "metadata": {
        "id": "8DocFowNWIUA"
      },
      "execution_count": null,
      "outputs": []
    },
    {
      "cell_type": "code",
      "source": [],
      "metadata": {
        "id": "ZkWG29WWWIRz"
      },
      "execution_count": null,
      "outputs": []
    },
    {
      "cell_type": "code",
      "source": [],
      "metadata": {
        "id": "idYifSZDWIPm"
      },
      "execution_count": null,
      "outputs": []
    },
    {
      "cell_type": "code",
      "source": [],
      "metadata": {
        "id": "Pq0lAiRCWINm"
      },
      "execution_count": null,
      "outputs": []
    },
    {
      "cell_type": "code",
      "source": [],
      "metadata": {
        "id": "4QdTop3yWILU"
      },
      "execution_count": null,
      "outputs": []
    },
    {
      "cell_type": "code",
      "source": [],
      "metadata": {
        "id": "0rcIcv5cWII1"
      },
      "execution_count": null,
      "outputs": []
    },
    {
      "cell_type": "code",
      "source": [],
      "metadata": {
        "id": "qFkgb963WIGH"
      },
      "execution_count": null,
      "outputs": []
    }
  ]
}