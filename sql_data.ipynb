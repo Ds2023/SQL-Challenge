{
  "nbformat": 4,
  "nbformat_minor": 0,
  "metadata": {
    "colab": {
      "provenance": []
    },
    "kernelspec": {
      "name": "python3",
      "display_name": "Python 3"
    },
    "language_info": {
      "name": "python"
    }
  },
  "cells": [
    {
      "cell_type": "markdown",
      "source": [
        "# **JOINS**"
      ],
      "metadata": {
        "id": "Pb5ui14ZLgp8"
      }
    },
    {
      "cell_type": "code",
      "execution_count": null,
      "metadata": {
        "colab": {
          "base_uri": "https://localhost:8080/"
        },
        "id": "nOUPCsIwK7Y9",
        "outputId": "6fd0ca1b-54d2-4806-cd3f-74e3e15ee091"
      },
      "outputs": [
        {
          "output_type": "stream",
          "name": "stdout",
          "text": [
            "The sql extension is already loaded. To reload it, use:\n",
            "  %reload_ext sql\n"
          ]
        }
      ],
      "source": [
        "%load_ext sql"
      ]
    },
    {
      "cell_type": "code",
      "source": [
        "%sql sqlite:///practice.db"
      ],
      "metadata": {
        "id": "EerFO__5K-WP"
      },
      "execution_count": null,
      "outputs": []
    },
    {
      "cell_type": "markdown",
      "source": [],
      "metadata": {
        "id": "jKjCH4yOMwoZ"
      }
    },
    {
      "cell_type": "code",
      "source": [
        "%%sql CREATE TABLE Products (\n",
        "    ProductID INT,\n",
        "    ProductName VARCHAR(255),\n",
        "    SupplierID INT,\n",
        "    CategoryID INT,\n",
        "    Unit VARCHAR(255),\n",
        "    Price REAL(10, 2)\n",
        ");"
      ],
      "metadata": {
        "colab": {
          "base_uri": "https://localhost:8080/"
        },
        "id": "W1qSqTfeK-RJ",
        "outputId": "1e953411-e657-431c-d0bd-5b6f166f6c6d"
      },
      "execution_count": null,
      "outputs": [
        {
          "output_type": "stream",
          "name": "stdout",
          "text": [
            " * sqlite:///practice.db\n",
            "Done.\n"
          ]
        },
        {
          "output_type": "execute_result",
          "data": {
            "text/plain": [
              "[]"
            ]
          },
          "metadata": {},
          "execution_count": 5
        }
      ]
    },
    {
      "cell_type": "code",
      "source": [
        "%%sql INSERT INTO Products (ProductID, ProductName, SupplierID, CategoryID, Unit, Price) VALUES\n",
        "(1, 'Chais', 1, 1, '10 boxes x 20 bags', 18),\n",
        "(2, 'Chang', 1, 1, '24 - 12 oz bottles', 19),\n",
        "(3, 'Aniseed Syrup', 1, 2, '12 - 550 ml bottles', 10),\n",
        "(4, 'Chef Anton''s Cajun Seasoning', 2, 2, '48 - 6 oz jars', 22),\n",
        "(5, 'Chef Anton''s Gumbo Mix', 2, 2, '36 boxes', 21.35),\n",
        "(6, 'Grandma''s Boysenberry Spread', 3, 2, '12 - 8 oz jars', 25),\n",
        "(7, 'Uncle Bob''s Organic Dried Pears', 3, 7, '12 - 1 lb pkgs.', 30),\n",
        "(8, 'Northwoods Cranberry Sauce', 3, 2, '12 - 12 oz jars', 40),\n",
        "(9, 'Mishi Kobe Niku', 4, 6, '18 - 500 g pkgs.', 97),\n",
        "(10, 'Ikura', 4, 8, '12 - 200 ml jars', 31),\n",
        "(11, 'Queso Cabrales', 5, 4, '1 kg pkg.', 21),\n",
        "(12, 'Queso Manchego La Pastora', 5, 4, '10 - 500 g pkgs.', 38),\n",
        "(13, 'Konbu', 6, 8, '2 kg box', 6),\n",
        "(14, 'Tofu', 6, 7, '40 - 100 g pkgs.', 23.25),\n",
        "(15, 'Genen Shouyu', 6, 2, '24 - 250 ml bottles', 15.5),\n",
        "(16, 'Pavlova', 7, 3, '32 - 500 g boxes', 17.45),\n",
        "(17, 'Alice Mutton', 7, 6, '20 - 1 kg tins', 39),\n",
        "(18, 'Carnarvon Tigers', 7, 8, '16 kg pkg.', 62.5),\n",
        "(19, 'Teatime Chocolate Biscuits', 8, 3, '10 boxes x 12 pieces', 9.2),\n",
        "(20, 'Sir Rodney''s Marmalade', 8, 3, '30 gift boxes', 81),\n",
        "(21, 'Sir Rodney''s Scones', 8, 3, '24 pkgs. x 4 pieces', 10),\n",
        "(22, 'Gustaf''s Knäckebröd', 9, 5, '24 - 500 g pkgs.', 21),\n",
        "(23, 'Tunnbröd', 9, 5, '12 - 250 g pkgs.', 9),\n",
        "(24, 'Guaraná Fantástica', 10, 1, '12 - 355 ml cans', 4.5),\n",
        "(25, 'NuNuCa Nuß-Nougat-Creme', 11, 3, '20 - 450 g glasses', 14),\n",
        "(26, 'Gumbär Gummibärchen', 11, 3, '100 - 250 g bags', 31.23),\n",
        "(27, 'Schoggi Schokolade', 11, 3, '100 - 100 g pieces', 43.9),\n",
        "(28, 'Rössle Sauerkraut', 12, 7, '25 - 825 g cans', 45.6),\n",
        "(29, 'Thüringer Rostbratwurst', 12, 6, '50 bags x 30 sausgs.', 123.79),\n",
        "(30, 'Nord-Ost Matjeshering', 13, 8, '10 - 200 g glasses', 25.89),\n",
        "(31, 'Gorgonzola Telino', 14, 4, '12 - 100 g pkgs', 12.5),\n",
        "(32, 'Mascarpone Fabioli', 14, 4, '24 - 200 g pkgs.', 32),\n",
        "(33, 'Geitost', 15, 4, '500 g', 2.5),\n",
        "(34, 'Sasquatch Ale', 16, 1, '24 - 12 oz bottles', 14),\n",
        "(35, 'Steeleye Stout', 16, 1, '24 - 12 oz bottles', 18),\n",
        "(36, 'Inlagd Sill', 17, 8, '24 - 250 g jars', 19),\n",
        "(37, 'Gravad lax', 17, 8, '12 - 500 g pkgs.', 26),\n",
        "(38, 'Côte de Blaye', 18, 1, '12 - 75 cl bottles', 263.5),\n",
        "(39, 'Chartreuse verte', 18, 1, '750 cc per bottle', 18),\n",
        "(40, 'Boston Crab Meat', 19, 8, '24 - 4 oz tins', 18.4),\n",
        "(41, 'Jack''s New England Clam Chowder', 19, 8, '12 - 12 oz cans', 9.65),\n",
        "(42, 'Singaporean Hokkien Fried Mee', 20, 5, '32 - 1 kg pkgs.', 14),\n",
        "(43, 'Ipoh Coffee', 20, 1, '16 - 500 g tins', 46),\n",
        "(44, 'Gula Malacca', 20, 2, '20 - 2 kg bags', 19.45),\n",
        "(45, 'Røgede sild', 21, 8, '1k pkg.', 9.5),\n",
        "(46, 'Spegesild', 21, 8, '4 - 450 g glasses', 12),\n",
        "(47, 'Zaanse koeken', 22, 3, '10 - 4 oz boxes', 9.5),\n",
        "(48, 'Chocolade', 22, 3, '10 pkgs.', 12.75),\n",
        "(49, 'Maxilaku', 23, 3, '24 - 50 g pkgs.', 20),\n",
        "(50, 'Valkoinen suklaa', 23, 3, '12 - 100 g bars', 16.25);"
      ],
      "metadata": {
        "colab": {
          "base_uri": "https://localhost:8080/"
        },
        "id": "iuc2anL-K-OU",
        "outputId": "b8cf5d41-7da3-4eb6-9e19-bd0899701283"
      },
      "execution_count": null,
      "outputs": [
        {
          "output_type": "stream",
          "name": "stdout",
          "text": [
            " * sqlite:///practice.db\n",
            "50 rows affected.\n"
          ]
        },
        {
          "output_type": "execute_result",
          "data": {
            "text/plain": [
              "[]"
            ]
          },
          "metadata": {},
          "execution_count": 6
        }
      ]
    },
    {
      "cell_type": "code",
      "source": [
        "%%sql CREATE TABLE Customers (\n",
        "    CustomerID INT,\n",
        "    CustomerName VARCHAR(255),\n",
        "    ContactName VARCHAR(255),\n",
        "    Address VARCHAR(255),\n",
        "    City VARCHAR(255),\n",
        "    PostalCode VARCHAR(20),\n",
        "    Country VARCHAR(255)\n",
        ");"
      ],
      "metadata": {
        "colab": {
          "base_uri": "https://localhost:8080/"
        },
        "id": "B-3mUejGK-Lg",
        "outputId": "c8c0510d-a31e-4805-e6db-eaa26f5906aa"
      },
      "execution_count": null,
      "outputs": [
        {
          "output_type": "stream",
          "name": "stdout",
          "text": [
            " * sqlite:///practice.db\n",
            "Done.\n"
          ]
        },
        {
          "output_type": "execute_result",
          "data": {
            "text/plain": [
              "[]"
            ]
          },
          "metadata": {},
          "execution_count": 7
        }
      ]
    },
    {
      "cell_type": "code",
      "source": [
        "%%sql INSERT INTO Customers (CustomerID, CustomerName, ContactName, Address, City, PostalCode, Country) VALUES\n",
        "(1, 'Alfreds Futterkiste', 'Maria Anders', 'Obere Str. 57', 'Berlin', '12209', 'Germany'),\n",
        "(2, 'Ana Trujillo Emparedados y helados', 'Ana Trujillo', 'Avda. de la Constitución 2222', 'México D.F.', '05021', 'Mexico'),\n",
        "(3, 'Antonio Moreno Taquería', 'Antonio Moreno', 'Mataderos 2312', 'México D.F.', '05023', 'Mexico'),\n",
        "(4, 'Around the Horn', 'Thomas Hardy', '120 Hanover Sq.', 'London', 'WA1 1DP', 'UK'),\n",
        "(5, 'Berglunds snabbköp', 'Christina Berglund', 'Berguvsvägen 8', 'Luleå', 'S-958 22', 'Sweden'),\n",
        "(6, 'Blauer See Delikatessen', 'Hanna Moos', 'Forsterstr. 57', 'Mannheim', '68306', 'Germany'),\n",
        "(7, 'Blondel père et fils', 'Frédérique Citeaux', '24, place Kléber', 'Strasbourg', '67000', 'France'),\n",
        "(8, 'Bólido Comidas preparadas', 'Martín Sommer', 'C/ Araquil, 67', 'Madrid', '28023', 'Spain'),\n",
        "(9, 'Bon app', 'Laurence Lebihans', '12, rue des Bouchers', 'Marseille', '13008', 'France'),\n",
        "(10, 'Bottom-Dollar Marketse', 'Elizabeth Lincoln', '23 Tsawassen Blvd.', 'Tsawassen', 'T2F 8M4', 'Canada'),\n",
        "(11, 'B''s Beverages', 'Victoria Ashworth', 'Fauntleroy Circus', 'London', 'EC2 5NT', 'UK'),\n",
        "(12, 'Cactus Comidas para llevar', 'Patricio Simpson', 'Cerrito 333', 'Buenos Aires', '1010', 'Argentina'),\n",
        "(13, 'Centro comercial Moctezuma', 'Francisco Chang', 'Sierras de Granada 9993', 'México D.F.', '05022', 'Mexico'),\n",
        "(14, 'Chop-suey Chinese', 'Yang Wang', 'Hauptstr. 29', 'Bern', '3012', 'Switzerland'),\n",
        "(15, 'Comércio Mineiro', 'Pedro Afonso', 'Av. dos Lusíadas, 23', 'São Paulo', '05432-043', 'Brazil'),\n",
        "(16, 'Consolidated Holdings', 'Elizabeth Brown', 'Berkeley Gardens 12 Brewery', 'London', 'WX1 6LT', 'UK'),\n",
        "(17, 'Drachenblut Delikatessend', 'Sven Ottlieb', 'Walserweg 21', 'Aachen', '52066', 'Germany'),\n",
        "(18, 'Du monde entier', 'Janine Labrune', '67, rue des Cinquante Otages', 'Nantes', '44000', 'France'),\n",
        "(19, 'Eastern Connection', 'Ann Devon', '35 King George', 'London', 'WX3 6FW', 'UK'),\n",
        "(20, 'Ernst Handel', 'Roland Mendel', 'Kirchgasse 6', 'Graz', '8010', 'Austria'),\n",
        "(21, 'Familia Arquibaldo', 'Aria Cruz', 'Rua Orós, 92', 'São Paulo', '05442-030', 'Brazil'),\n",
        "(22, 'FISSA Fabrica Inter. Salchichas S.A.', 'Diego Roel', 'C/ Moralzarzal, 86', 'Madrid', '28034', 'Spain'),\n",
        "(23, 'Folies gourmandes', 'Martine Rancé', '184, chaussée de Tournai', 'Lille', '59000', 'France'),\n",
        "(24, 'Folk och fä HB', 'Maria Larsson', 'Åkergatan 24', 'Bräcke', 'S-844 67', 'Sweden'),\n",
        "(25, 'Frankenversand', 'Peter Franken', 'Berliner Platz 43', 'München', '80805', 'Germany'),\n",
        "(26, 'France restauration', 'Carine Schmitt', '54, rue Royale', 'Nantes', '44000', 'France'),\n",
        "(27, 'Franchi S.p.A.', 'Paolo Accorti', 'Via Monte Bianco 34', 'Torino', '10100', 'Italy'),\n",
        "(28, 'Furia Bacalhau e Frutos do Mar', 'Lino Rodriguez', 'Jardim das rosas n. 32', 'Lisboa', '1675', 'Portugal'),\n",
        "(29, 'Galería del gastrónomo', 'Eduardo Saavedra', 'Rambla de Cataluña, 23', 'Barcelona', '08022', 'Spain'),\n",
        "(30, 'Godos Cocina Típica', 'José Pedro Freyre', 'C/ Romero, 33', 'Sevilla', '41101', 'Spain'),\n",
        "(31, 'Gourmet Lanchonetes', 'André Fonseca', 'Av. Brasil, 442', 'Campinas', '04876-786', 'Brazil'),\n",
        "(32, 'Great Lakes Food Market', 'Howard Snyder', '2732 Baker Blvd.', 'Eugene', '97403', 'USA'),\n",
        "(33, 'GROSELLA-Restaurante', 'Manuel Pereira', '5ª Ave. Los Palos Grandes', 'Caracas', '1081', 'Venezuela'),\n",
        "(34, 'Hanari Carnes', 'Mario Pontes', 'Rua do Paço, 67', 'Rio de Janeiro', '05454-876', 'Brazil'),\n",
        "(35, 'HILARIÓN-Abastos', 'Carlos Hernández', 'Carrera 22 con Ave. Carlos Soublette #8-35', 'San Cristóbal', '5022', 'Venezuela'),\n",
        "(36, 'Hungry Coyote Import Store', 'Yoshi Latimer', 'City Center Plaza 516 Main St.', 'Elgin', '97827', 'USA'),\n",
        "(37, 'Hungry Owl All-Night Grocers', 'Patricia McKenna', '8 Johnstown Road', 'Cork', '', 'Ireland'),\n",
        "(38, 'Island Trading', 'Helen Bennett', 'Garden House Crowther Way', 'Cowes', 'PO31 7PJ', 'UK'),\n",
        "(39, 'Königlich Essen', 'Philip Cramer', 'Maubelstr. 90', 'Brandenburg', '14776', 'Germany'),\n",
        "(40, 'La corne dabondance', 'Daniel Tonini', '67, avenue de lEurope', 'Versailles', '78000', 'France'),\n",
        "(41, 'La maison dAsie', 'Annette Roulet', '1 rue Alsace-Lorraine', 'Toulouse', '31000', 'France'),\n",
        "(42, 'Laughing Bacchus Wine Cellars', 'Yoshi Tannamuri', '1900 Oak St.', 'Vancouver', 'V3F 2K1', 'Canada'),\n",
        "(43, 'Lazy K Kountry Store', 'John Steel', '12 Orchestra Terrace', 'Walla Walla', '99362', 'USA'),\n",
        "(44, 'Lehmanns Marktstand', 'Renate Messner', 'Magazinweg 7', 'Frankfurt a.M.', '60528', 'Germany'),\n",
        "(45, 'Lets Stop N Shop', 'Jaime Yorres', '87 Polk St. Suite 5', 'San Francisco', '94117', 'USA'),\n",
        "(46, 'LILA-Supermercado', 'Carlos González', 'Carrera 52 con Ave. Bolívar #65-98 Llano Largo', 'Barquisimeto', '3508', 'Venezuela'),\n",
        "(47, 'LINO-Delicateses', 'Felipe Izquierdo', 'Ave. 5 de Mayo Porlamar', 'I. de Margarita', '4980', 'Venezuela'),\n",
        "(48, 'Lonesome Pine Restaurant', 'Fran Wilson', '89 Chiaroscuro Rd.', 'Portland', '97219', 'USA'),\n",
        "(49, 'Magazzini Alimentari Riuniti', 'Giovanni Rovelli', 'Via Ludovico il Moro 22', 'Bergamo', '24100', 'Italy'),\n",
        "(50, 'Maison Dewey', 'Catherine Dewey', 'Rue Joseph-Bens 532', 'Bruxelles', 'B-1180', 'Belgium');"
      ],
      "metadata": {
        "colab": {
          "base_uri": "https://localhost:8080/"
        },
        "id": "wKky9AHVK-Ij",
        "outputId": "5315083d-abd8-47b3-a7fc-9e5f638e3720"
      },
      "execution_count": null,
      "outputs": [
        {
          "output_type": "stream",
          "name": "stdout",
          "text": [
            " * sqlite:///practice.db\n",
            "50 rows affected.\n"
          ]
        },
        {
          "output_type": "execute_result",
          "data": {
            "text/plain": [
              "[]"
            ]
          },
          "metadata": {},
          "execution_count": 9
        }
      ]
    },
    {
      "cell_type": "code",
      "source": [
        "%%sql CREATE TABLE Categories (\n",
        "    CategoryID INT,\n",
        "    CategoryName VARCHAR(255),\n",
        "    Description VARCHAR(255)\n",
        ");"
      ],
      "metadata": {
        "colab": {
          "base_uri": "https://localhost:8080/"
        },
        "id": "1uKMV0mXK-F3",
        "outputId": "e0386a13-704d-4d21-988b-21f15c4785e3"
      },
      "execution_count": null,
      "outputs": [
        {
          "output_type": "stream",
          "name": "stdout",
          "text": [
            " * sqlite:///practice.db\n",
            "Done.\n"
          ]
        },
        {
          "output_type": "execute_result",
          "data": {
            "text/plain": [
              "[]"
            ]
          },
          "metadata": {},
          "execution_count": 10
        }
      ]
    },
    {
      "cell_type": "code",
      "source": [
        "%%sql INSERT INTO Categories (CategoryID, CategoryName, Description) VALUES\n",
        "(1, 'Beverages', 'Soft drinks, coffees, teas, beers, and ales'),\n",
        "(2, 'Condiments', 'Sweet and savory sauces, relishes, spreads, and seasonings'),\n",
        "(3, 'Confections', 'Desserts, candies, and sweet breads'),\n",
        "(4, 'Dairy Products', 'Cheeses'),\n",
        "(5, 'Grains/Cereals', 'Breads, crackers, pasta, and cereal'),\n",
        "(6, 'Meat/Poultry', 'Prepared meats'),\n",
        "(7, 'Produce', 'Dried fruit and bean curd'),\n",
        "(8, 'Seafood', 'Seaweed and fish');"
      ],
      "metadata": {
        "colab": {
          "base_uri": "https://localhost:8080/"
        },
        "id": "sD2JR3NCK-Dc",
        "outputId": "8865aadb-db24-4966-9910-47538e5e9781"
      },
      "execution_count": null,
      "outputs": [
        {
          "output_type": "stream",
          "name": "stdout",
          "text": [
            " * sqlite:///practice.db\n",
            "8 rows affected.\n"
          ]
        },
        {
          "output_type": "execute_result",
          "data": {
            "text/plain": [
              "[]"
            ]
          },
          "metadata": {},
          "execution_count": 11
        }
      ]
    },
    {
      "cell_type": "code",
      "source": [
        "%%sql CREATE TABLE OrderDetails (\n",
        "    OrderDetailID INT,\n",
        "    OrderID INT,\n",
        "    ProductID INT,\n",
        "    Quantity INT\n",
        ");"
      ],
      "metadata": {
        "colab": {
          "base_uri": "https://localhost:8080/"
        },
        "id": "wfycRmJiK-A_",
        "outputId": "2b86200b-2538-4c07-c730-367f65f74e30"
      },
      "execution_count": null,
      "outputs": [
        {
          "output_type": "stream",
          "name": "stdout",
          "text": [
            " * sqlite:///practice.db\n",
            "Done.\n"
          ]
        },
        {
          "output_type": "execute_result",
          "data": {
            "text/plain": [
              "[]"
            ]
          },
          "metadata": {},
          "execution_count": 12
        }
      ]
    },
    {
      "cell_type": "code",
      "source": [
        "%%sql INSERT INTO OrderDetails (OrderDetailID, OrderID, ProductID, Quantity) VALUES\n",
        "(1, 10248, 11, 12),\n",
        "(2, 10248, 42, 10),\n",
        "(3, 10248, 72, 5),\n",
        "(4, 10249, 14, 9),\n",
        "(5, 10249, 51, 40),\n",
        "(6, 10250, 41, 10),\n",
        "(7, 10250, 51, 35),\n",
        "(8, 10250, 65, 15),\n",
        "(9, 10251, 22, 6),\n",
        "(10, 10251, 57, 15),\n",
        "(11, 10251, 65, 20),\n",
        "(12, 10252, 20, 40),\n",
        "(13, 10252, 33, 25),\n",
        "(14, 10252, 60, 40),\n",
        "(15, 10253, 31, 20),\n",
        "(16, 10253, 39, 42),\n",
        "(17, 10253, 49, 40),\n",
        "(18, 10254, 24, 15),\n",
        "(19, 10254, 55, 21),\n",
        "(20, 10254, 74, 21),\n",
        "(21, 10255, 2, 20),\n",
        "(22, 10255, 16, 35),\n",
        "(23, 10255, 36, 25),\n",
        "(24, 10255, 59, 30),\n",
        "(25, 10256, 53, 15),\n",
        "(26, 10256, 77, 12),\n",
        "(27, 10257, 27, 25),\n",
        "(28, 10257, 39, 6),\n",
        "(29, 10257, 77, 15),\n",
        "(30, 10258, 2, 50),\n",
        "(31, 10258, 5, 65),\n",
        "(32, 10258, 32, 6),\n",
        "(33, 10259, 21, 10),\n",
        "(34, 10259, 37, 1),\n",
        "(35, 10260, 41, 16),\n",
        "(36, 10260, 57, 50),\n",
        "(37, 10260, 62, 15),\n",
        "(38, 10260, 70, 21),\n",
        "(39, 10261, 21, 20),\n",
        "(40, 10261, 35, 20),\n",
        "(41, 10262, 5, 12),\n",
        "(42, 10262, 7, 15),\n",
        "(43, 10262, 56, 2),\n",
        "(44, 10263, 16, 60),\n",
        "(45, 10263, 24, 28),\n",
        "(46, 10263, 30, 60),\n",
        "(47, 10263, 74, 36),\n",
        "(48, 10264, 2, 35),\n",
        "(49, 10264, 41, 25);"
      ],
      "metadata": {
        "colab": {
          "base_uri": "https://localhost:8080/"
        },
        "id": "lA26VoJxK9-Z",
        "outputId": "66f3a3e8-365e-4cf1-9f5d-8168250e13bc"
      },
      "execution_count": null,
      "outputs": [
        {
          "output_type": "stream",
          "name": "stdout",
          "text": [
            " * sqlite:///practice.db\n",
            "49 rows affected.\n"
          ]
        },
        {
          "output_type": "execute_result",
          "data": {
            "text/plain": [
              "[]"
            ]
          },
          "metadata": {},
          "execution_count": 13
        }
      ]
    },
    {
      "cell_type": "code",
      "source": [
        "%%sql CREATE TABLE Employees (\n",
        "    EmployeeID INT,\n",
        "    LastName VARCHAR(255),\n",
        "    FirstName VARCHAR(255),\n",
        "    BirthDate DATE,\n",
        "    Photo VARCHAR(255),\n",
        "    Notes TEXT\n",
        ");"
      ],
      "metadata": {
        "colab": {
          "base_uri": "https://localhost:8080/"
        },
        "id": "UchYxRCzK98E",
        "outputId": "d2167167-8e77-4859-f41e-212be18b8f11"
      },
      "execution_count": null,
      "outputs": [
        {
          "output_type": "stream",
          "name": "stdout",
          "text": [
            " * sqlite:///practice.db\n",
            "Done.\n"
          ]
        },
        {
          "output_type": "execute_result",
          "data": {
            "text/plain": [
              "[]"
            ]
          },
          "metadata": {},
          "execution_count": 14
        }
      ]
    },
    {
      "cell_type": "code",
      "source": [
        "%%sql INSERT INTO Employees (EmployeeID, LastName, FirstName, BirthDate, Photo, Notes) VALUES\n",
        "(1, 'Davolio', 'Nancy', '1968-12-08', 'EmpID1.pic', 'Bachelor\\s degree'),\n",
        "(2, 'Fuller', 'Andrew', '1952-02-19', 'EmpID2.pic', 'Ph.D. in international marketing'),\n",
        "(3, 'Leverling', 'Janet', '1963-08-30', 'EmpID3.pic', 'Bachelor\\s degree in chemistry'),\n",
        "(4, 'Peacock', 'Margaret', '1958-09-19', 'EmpID4.pic', 'Master\\s degree in English literature'),\n",
        "(5, 'Buchanan', 'Steven', '1955-03-04', 'EmpID5.pic', 'Bachelor\\s degree in BSC'),\n",
        "(6, 'Suyama', 'Michael', '1963-07-02', 'EmpID6.pic', 'Master\\s in economics, MBA in marketing'),\n",
        "(7, 'King', 'Robert', '1960-05-29', 'EmpID7.pic', 'Bachelor\\s degree in English'),\n",
        "(8, 'Callahan', 'Laura', '1958-01-09', 'EmpID8.pic', 'Bachelor\\s degree in psychology'),\n",
        "(9, 'Dodsworth', 'Anne', '1969-07-02', 'EmpID9.pic', 'Bachelor\\s degree in English'),\n",
        "(10, 'West', 'Adam', '1928-09-19', 'EmpID10.pic', 'No specific degree information');\n"
      ],
      "metadata": {
        "colab": {
          "base_uri": "https://localhost:8080/"
        },
        "id": "4W2b8Q1PRuNY",
        "outputId": "0206b4bd-aa6b-4613-899d-e9d8bffe34e0"
      },
      "execution_count": null,
      "outputs": [
        {
          "output_type": "stream",
          "name": "stdout",
          "text": [
            " * sqlite:///practice.db\n",
            "10 rows affected.\n"
          ]
        },
        {
          "output_type": "execute_result",
          "data": {
            "text/plain": [
              "[]"
            ]
          },
          "metadata": {},
          "execution_count": 18
        }
      ]
    },
    {
      "cell_type": "code",
      "source": [
        "%%sql CREATE TABLE Suppliers (\n",
        "    SupplierID INT PRIMARY KEY,\n",
        "    SupplierName VARCHAR(255),\n",
        "    ContactName VARCHAR(255),\n",
        "    Address VARCHAR(255),\n",
        "    City VARCHAR(255),\n",
        "    PostalCode VARCHAR(20),\n",
        "    Country VARCHAR(255),\n",
        "    Phone VARCHAR(20)\n",
        ");"
      ],
      "metadata": {
        "colab": {
          "base_uri": "https://localhost:8080/"
        },
        "id": "zuGpD2dqK93R",
        "outputId": "2597b866-44be-43fb-b418-199af74fc8d0"
      },
      "execution_count": null,
      "outputs": [
        {
          "output_type": "stream",
          "name": "stdout",
          "text": [
            " * sqlite:///practice.db\n",
            "Done.\n"
          ]
        },
        {
          "output_type": "execute_result",
          "data": {
            "text/plain": [
              "[]"
            ]
          },
          "metadata": {},
          "execution_count": 19
        }
      ]
    },
    {
      "cell_type": "code",
      "source": [
        "%%sql INSERT INTO Suppliers (SupplierID, SupplierName, ContactName, Address, City, PostalCode, Country, Phone) VALUES\n",
        "(1, 'Exotic Liquid', 'Charlotte Cooper', '49 Gilbert St.', 'London', 'EC1 4SD', 'UK', '(171) 555-2222'),\n",
        "(2, 'New Orleans Cajun Delights', 'Shelley Burke', 'P.O. Box 78934', 'New Orleans', '70117', 'USA', '(100) 555-4822'),\n",
        "(3, 'Grandma Kelly''s Homestead', 'Regina Murphy', '707 Oxford Rd.', 'Ann Arbor', '48104', 'USA', '(313) 555-5735'),\n",
        "(4, 'Tokyo Traders', 'Yoshi Nagase', '9-8 Sekimai Musashino-shi', 'Tokyo', '100', 'Japan', '(03) 3555-5011'),\n",
        "(5, 'Cooperativa de Quesos ''Las Cabras''', 'Antonio del Valle Saavedra', 'Calle del Rosal 4', 'Oviedo', '33007', 'Spain', '(98) 598 76 54'),\n",
        "(6, 'Mayumi''s', 'Mayumi Ohno', '92 Setsuko Chuo-ku', 'Osaka', '545', 'Japan', '(06) 431-7877'),\n",
        "(7, 'Pavlova, Ltd.', 'Ian Devling', '74 Rose St. Moonie Ponds', 'Melbourne', '3058', 'Australia', '(03) 444-2343'),\n",
        "(8, 'Specialty Biscuits, Ltd.', 'Peter Wilson', '29 King''s Way', 'Manchester', 'M14 GSD', 'UK', '(161) 555-4448'),\n",
        "(9, 'PB Knäckebröd AB', 'Lars Peterson', 'Kaloadagatan 13', 'Göteborg', 'S-345 67', 'Sweden', '031-987 65 43'),\n",
        "(10, 'Refrescos Americanas LTDA', 'Carlos Diaz', 'Av. das Americanas 12.890', 'São Paulo', '5442', 'Brazil', '(11) 555 4640'),\n",
        "(11, 'Heli Süßwaren GmbH & Co. KG', 'Petra Winkler', 'Tiergartenstraße 5', 'Berlin', '10785', 'Germany', '(010) 9984510'),\n",
        "(12, 'Plutzer Lebensmittelgroßmärkte AG', 'Martin Bein', 'Bogenallee 51', 'Frankfurt', '60439', 'Germany', '(069) 992755'),\n",
        "(13, 'Nord-Ost-Fisch Handelsgesellschaft mbH', 'Sven Petersen', 'Frahmredder 112a', 'Cuxhaven', '27478', 'Germany', '(04721) 8713'),\n",
        "(14, 'Formaggi Fortini s.r.l.', 'Elio Rossi', 'Viale Dante, 75', 'Ravenna', '48100', 'Italy', '(0544) 60323'),\n",
        "(15, 'Norske Meierier', 'Beate Vileid', 'Hatlevegen 5', 'Sandvika', '1320', 'Norway', '(0)2-953010'),\n",
        "(16, 'Bigfoot Breweries', 'Cheryl Saylor', '3400 - 8th Avenue Suite 210', 'Bend', '97101', 'USA', '(503) 555-9931'),\n",
        "(17, 'Svensk Sjöföda AB', 'Michael Björn', 'Brovallavägen 231', 'Stockholm', 'S-123 45', 'Sweden', '08-123 45 67'),\n",
        "(18, 'Aux joyeux ecclésiastiques', 'Guylène Nodier', '203, Rue des Francs-Bourgeois', 'Paris', '75004', 'France', '(1) 03.83.00.68'),\n",
        "(19, 'New England Seafood Cannery', 'Robb Merchant', 'Order Processing Dept. 2100 Paul Revere Blvd.', 'Boston', '02134', 'USA', '(617) 555-3267'),\n",
        "(20, 'Leka Trading', 'Chandra Leka', '471 Serangoon Loop, Suite #402', 'Singapore', '0512', 'Singapore', '555-8787'),\n",
        "(21, 'Lyngbysild', 'Niels Petersen', 'Lyngbysild Fiskebakken 10', 'Lyngby', '2800', 'Denmark', '43844108'),\n",
        "(22, 'Zaanse Snoepfabriek', 'Dirk Luchte', 'Verkoop Rijnweg 22', 'Zaandam', '9999 ZZ', 'Netherlands', '(12345) 1212'),\n",
        "(23, 'Karkki Oy', 'Anne Heikkonen', 'Valtakatu 12', 'Lappeenranta', '53120', 'Finland', '(953) 10956'),\n",
        "(24, 'G''day, Mate', 'Wendy Mackenzie', '170 Prince Edward Parade Hunter''s Hill', 'Sydney', '2042', 'Australia', '(02) 555-5914'),\n",
        "(25, 'Ma Maison', 'Jean-Guy Lauzon', '2960 Rue St. Laurent', 'Montréal', 'H1J 1C3', 'Canada', '(514) 555-9022'),\n",
        "(26, 'Pasta Buttini s.r.l.', 'Giovanni Giudici', 'Via dei Gelsomini, 153', 'Salerno', '84100', 'Italy', '(089) 6547665'),\n",
        "(27, 'Escargots Nouveaux', 'Marie Delamare', '22, rue H. Voiron', 'Montceau', '71300', 'France', '85.57.00.07'),\n",
        "(28, 'Gai pâturage', 'Eliane Noz', 'Bat. B 3, rue des Alpes', 'Annecy', '74000', 'France', '38.76.98.06'),\n",
        "(29, 'Forêts d''érables', 'Chantal Goulet', '148 rue Chasseur', 'Ste-Hyacinthe', 'J2S 7S8', 'Canada', '(514) 555-2955');\n"
      ],
      "metadata": {
        "colab": {
          "base_uri": "https://localhost:8080/"
        },
        "id": "meMu1mMHK90n",
        "outputId": "7be73790-a0fb-4fe9-e259-1472ca6441a0"
      },
      "execution_count": null,
      "outputs": [
        {
          "output_type": "stream",
          "name": "stdout",
          "text": [
            " * sqlite:///practice.db\n",
            "29 rows affected.\n"
          ]
        },
        {
          "output_type": "execute_result",
          "data": {
            "text/plain": [
              "[]"
            ]
          },
          "metadata": {},
          "execution_count": 20
        }
      ]
    },
    {
      "cell_type": "code",
      "source": [],
      "metadata": {
        "id": "gGLoLEAbK9x_"
      },
      "execution_count": null,
      "outputs": []
    },
    {
      "cell_type": "code",
      "source": [],
      "metadata": {
        "id": "AnjFTJcQK9vn"
      },
      "execution_count": null,
      "outputs": []
    },
    {
      "cell_type": "code",
      "source": [],
      "metadata": {
        "id": "cOw1rP2VK9su"
      },
      "execution_count": null,
      "outputs": []
    },
    {
      "cell_type": "code",
      "source": [],
      "metadata": {
        "id": "WgMIL3RXK9pk"
      },
      "execution_count": null,
      "outputs": []
    }
  ]
}