{
  "nbformat": 4,
  "nbformat_minor": 0,
  "metadata": {
    "colab": {
      "provenance": []
    },
    "kernelspec": {
      "name": "python3",
      "display_name": "Python 3"
    },
    "language_info": {
      "name": "python"
    }
  },
  "cells": [
    {
      "cell_type": "markdown",
      "source": [
        "# **QUERY RESPONSE**"
      ],
      "metadata": {
        "id": "TkvG9d-5-LGL"
      }
    },
    {
      "cell_type": "code",
      "source": [
        "%load_ext sql"
      ],
      "metadata": {
        "id": "5xPjOylniG_l"
      },
      "execution_count": 1,
      "outputs": []
    },
    {
      "cell_type": "code",
      "source": [
        "%sql sqlite:///trial.db"
      ],
      "metadata": {
        "id": "V2Z2vSIqiG5a"
      },
      "execution_count": 2,
      "outputs": []
    },
    {
      "cell_type": "code",
      "source": [
        "%%sql CREATE TABLE Worker(\n",
        "    name VARCHAR(25),\n",
        "    salary INT,\n",
        "    weights DECIMAL(5,2)\n",
        ");"
      ],
      "metadata": {
        "colab": {
          "base_uri": "https://localhost:8080/"
        },
        "id": "zogV9xm2iG0q",
        "outputId": "c3999231-f7d3-4f33-d795-7f0347bf931f"
      },
      "execution_count": 3,
      "outputs": [
        {
          "output_type": "stream",
          "name": "stdout",
          "text": [
            " * sqlite:///trial.db\n",
            "Done.\n"
          ]
        },
        {
          "output_type": "execute_result",
          "data": {
            "text/plain": [
              "[]"
            ]
          },
          "metadata": {},
          "execution_count": 3
        }
      ]
    },
    {
      "cell_type": "code",
      "source": [
        "%%sql INSERT INTO Worker VALUES\n",
        "('Naomi',20000,2.5)"
      ],
      "metadata": {
        "colab": {
          "base_uri": "https://localhost:8080/"
        },
        "id": "4OfuvAkuiGyK",
        "outputId": "f1e60d4d-40c8-4be0-d986-1344d0324965"
      },
      "execution_count": 4,
      "outputs": [
        {
          "output_type": "stream",
          "name": "stdout",
          "text": [
            " * sqlite:///trial.db\n",
            "1 rows affected.\n"
          ]
        },
        {
          "output_type": "execute_result",
          "data": {
            "text/plain": [
              "[]"
            ]
          },
          "metadata": {},
          "execution_count": 4
        }
      ]
    },
    {
      "cell_type": "code",
      "source": [
        "%%sql pragma table_info(Worker);"
      ],
      "metadata": {
        "colab": {
          "base_uri": "https://localhost:8080/",
          "height": 139
        },
        "id": "frUSEe6-iGvh",
        "outputId": "57ecee97-8390-4cac-823c-07189392eb63"
      },
      "execution_count": 5,
      "outputs": [
        {
          "output_type": "stream",
          "name": "stdout",
          "text": [
            " * sqlite:///trial.db\n",
            "Done.\n"
          ]
        },
        {
          "output_type": "execute_result",
          "data": {
            "text/plain": [
              "[(0, 'name', 'VARCHAR(25)', 0, None, 0),\n",
              " (1, 'salary', 'INT', 0, None, 0),\n",
              " (2, 'weights', 'DECIMAL(5,2)', 0, None, 0)]"
            ],
            "text/html": [
              "<table>\n",
              "    <thead>\n",
              "        <tr>\n",
              "            <th>cid</th>\n",
              "            <th>name</th>\n",
              "            <th>type</th>\n",
              "            <th>notnull</th>\n",
              "            <th>dflt_value</th>\n",
              "            <th>pk</th>\n",
              "        </tr>\n",
              "    </thead>\n",
              "    <tbody>\n",
              "        <tr>\n",
              "            <td>0</td>\n",
              "            <td>name</td>\n",
              "            <td>VARCHAR(25)</td>\n",
              "            <td>0</td>\n",
              "            <td>None</td>\n",
              "            <td>0</td>\n",
              "        </tr>\n",
              "        <tr>\n",
              "            <td>1</td>\n",
              "            <td>salary</td>\n",
              "            <td>INT</td>\n",
              "            <td>0</td>\n",
              "            <td>None</td>\n",
              "            <td>0</td>\n",
              "        </tr>\n",
              "        <tr>\n",
              "            <td>2</td>\n",
              "            <td>weights</td>\n",
              "            <td>DECIMAL(5,2)</td>\n",
              "            <td>0</td>\n",
              "            <td>None</td>\n",
              "            <td>0</td>\n",
              "        </tr>\n",
              "    </tbody>\n",
              "</table>"
            ]
          },
          "metadata": {},
          "execution_count": 5
        }
      ]
    },
    {
      "cell_type": "code",
      "source": [
        "%%sql select * from Worker;"
      ],
      "metadata": {
        "colab": {
          "base_uri": "https://localhost:8080/",
          "height": 96
        },
        "id": "pmsbstcMiGtL",
        "outputId": "29994a2e-9436-4eb4-8128-937a1a20b62c"
      },
      "execution_count": 6,
      "outputs": [
        {
          "output_type": "stream",
          "name": "stdout",
          "text": [
            " * sqlite:///trial.db\n",
            "Done.\n"
          ]
        },
        {
          "output_type": "execute_result",
          "data": {
            "text/plain": [
              "[('Naomi', 20000, 2.5)]"
            ],
            "text/html": [
              "<table>\n",
              "    <thead>\n",
              "        <tr>\n",
              "            <th>name</th>\n",
              "            <th>salary</th>\n",
              "            <th>weights</th>\n",
              "        </tr>\n",
              "    </thead>\n",
              "    <tbody>\n",
              "        <tr>\n",
              "            <td>Naomi</td>\n",
              "            <td>20000</td>\n",
              "            <td>2.5</td>\n",
              "        </tr>\n",
              "    </tbody>\n",
              "</table>"
            ]
          },
          "metadata": {},
          "execution_count": 6
        }
      ]
    },
    {
      "cell_type": "code",
      "source": [
        "%%sql INSERT INTO Worker VALUES\n",
        "('Dave',20000.55,2)"
      ],
      "metadata": {
        "colab": {
          "base_uri": "https://localhost:8080/"
        },
        "id": "xh6lNXxtiGqW",
        "outputId": "0a7a1530-266e-463d-f429-db1452335841"
      },
      "execution_count": 7,
      "outputs": [
        {
          "output_type": "stream",
          "name": "stdout",
          "text": [
            " * sqlite:///trial.db\n",
            "1 rows affected.\n"
          ]
        },
        {
          "output_type": "execute_result",
          "data": {
            "text/plain": [
              "[]"
            ]
          },
          "metadata": {},
          "execution_count": 7
        }
      ]
    },
    {
      "cell_type": "code",
      "source": [
        "%%sql select * from Worker;"
      ],
      "metadata": {
        "colab": {
          "base_uri": "https://localhost:8080/",
          "height": 118
        },
        "id": "fQG2FOAriGnY",
        "outputId": "cbb0786f-6f08-4e49-f6f3-2862152d978b"
      },
      "execution_count": 8,
      "outputs": [
        {
          "output_type": "stream",
          "name": "stdout",
          "text": [
            " * sqlite:///trial.db\n",
            "Done.\n"
          ]
        },
        {
          "output_type": "execute_result",
          "data": {
            "text/plain": [
              "[('Naomi', 20000, 2.5), ('Dave', 20000.55, 2)]"
            ],
            "text/html": [
              "<table>\n",
              "    <thead>\n",
              "        <tr>\n",
              "            <th>name</th>\n",
              "            <th>salary</th>\n",
              "            <th>weights</th>\n",
              "        </tr>\n",
              "    </thead>\n",
              "    <tbody>\n",
              "        <tr>\n",
              "            <td>Naomi</td>\n",
              "            <td>20000</td>\n",
              "            <td>2.5</td>\n",
              "        </tr>\n",
              "        <tr>\n",
              "            <td>Dave</td>\n",
              "            <td>20000.55</td>\n",
              "            <td>2</td>\n",
              "        </tr>\n",
              "    </tbody>\n",
              "</table>"
            ]
          },
          "metadata": {},
          "execution_count": 8
        }
      ]
    },
    {
      "cell_type": "code",
      "source": [
        "%sql DELETE FROM Worker WHERE name == 'Naomi';"
      ],
      "metadata": {
        "colab": {
          "base_uri": "https://localhost:8080/"
        },
        "id": "SRh4Oy13iGkb",
        "outputId": "1a09e30d-0185-43c1-92d0-0f6df3394da8"
      },
      "execution_count": null,
      "outputs": [
        {
          "output_type": "stream",
          "name": "stdout",
          "text": [
            " * sqlite:///trial.db\n",
            "1 rows affected.\n"
          ]
        },
        {
          "output_type": "execute_result",
          "data": {
            "text/plain": [
              "[]"
            ]
          },
          "metadata": {},
          "execution_count": 9
        }
      ]
    },
    {
      "cell_type": "code",
      "execution_count": null,
      "metadata": {
        "colab": {
          "base_uri": "https://localhost:8080/",
          "height": 96
        },
        "id": "AMdsGquTiFoa",
        "outputId": "dcda2825-7056-4b0b-ce15-e01120de0de7"
      },
      "outputs": [
        {
          "output_type": "stream",
          "name": "stdout",
          "text": [
            " * sqlite:///trial.db\n",
            "Done.\n"
          ]
        },
        {
          "output_type": "execute_result",
          "data": {
            "text/plain": [
              "[('Dave', 20000.55, 2)]"
            ],
            "text/html": [
              "<table>\n",
              "    <thead>\n",
              "        <tr>\n",
              "            <th>name</th>\n",
              "            <th>salary</th>\n",
              "            <th>weights</th>\n",
              "        </tr>\n",
              "    </thead>\n",
              "    <tbody>\n",
              "        <tr>\n",
              "            <td>Dave</td>\n",
              "            <td>20000.55</td>\n",
              "            <td>2</td>\n",
              "        </tr>\n",
              "    </tbody>\n",
              "</table>"
            ]
          },
          "metadata": {},
          "execution_count": 10
        }
      ],
      "source": [
        "%%sql select * from Worker;"
      ]
    },
    {
      "cell_type": "markdown",
      "source": [
        "**STRICT TABLES**"
      ],
      "metadata": {
        "id": "pV0SGnv_8bZv"
      }
    },
    {
      "cell_type": "markdown",
      "source": [
        "In a CREATE TABLE statement, if the \"STRICT\" table-option keyword is added to the end, after the closing \")\", then strict typing rules apply to that table. The STRICT keyword causes the following differences:\n",
        "\n",
        "Every column definition must specify a datatype for that column. The freedom to specify a column without a datatype is removed.\n",
        "\n",
        "The datatype must be one of following:\n",
        "\n",
        "INT\n",
        "INTEGER\n",
        "REAL\n",
        "TEXT\n",
        "BLOB\n",
        "ANY"
      ],
      "metadata": {
        "id": "u92m3PGj8ZRX"
      }
    },
    {
      "cell_type": "code",
      "source": [
        "%%sql CREATE TABLE Workers(\n",
        "    name TEXT,\n",
        "    salary INTEGER,\n",
        "    weights REAL\n",
        ")STRICT;"
      ],
      "metadata": {
        "id": "0VFgBLPbwlwL",
        "colab": {
          "base_uri": "https://localhost:8080/"
        },
        "outputId": "60c1dcdd-1711-4e9b-d155-b03f5432b314"
      },
      "execution_count": 12,
      "outputs": [
        {
          "output_type": "stream",
          "name": "stdout",
          "text": [
            " * sqlite:///trial.db\n",
            "Done.\n"
          ]
        },
        {
          "output_type": "execute_result",
          "data": {
            "text/plain": [
              "[]"
            ]
          },
          "metadata": {},
          "execution_count": 12
        }
      ]
    },
    {
      "cell_type": "code",
      "source": [
        "%%sql INSERT INTO Workers VALUES\n",
        "('Dave',20000.55,2)"
      ],
      "metadata": {
        "id": "Nyab-Qcmybpx",
        "colab": {
          "base_uri": "https://localhost:8080/"
        },
        "outputId": "595c6032-180a-48df-8a87-a62e1141271d"
      },
      "execution_count": 13,
      "outputs": [
        {
          "output_type": "stream",
          "name": "stdout",
          "text": [
            " * sqlite:///trial.db\n",
            "(sqlite3.IntegrityError) cannot store REAL value in INTEGER column Workers.salary\n",
            "[SQL: INSERT INTO Workers VALUES\n",
            "('Dave',20000.55,2)]\n",
            "(Background on this error at: https://sqlalche.me/e/20/gkpj)\n"
          ]
        }
      ]
    },
    {
      "cell_type": "code",
      "source": [
        "%%sql INSERT INTO Workers VALUES\n",
        "('Naomi',20000,2.55)"
      ],
      "metadata": {
        "id": "DWuBIwheybmt",
        "colab": {
          "base_uri": "https://localhost:8080/"
        },
        "outputId": "33053d06-722b-4cf1-878a-bcdc50c2b830"
      },
      "execution_count": 14,
      "outputs": [
        {
          "output_type": "stream",
          "name": "stdout",
          "text": [
            " * sqlite:///trial.db\n",
            "1 rows affected.\n"
          ]
        },
        {
          "output_type": "execute_result",
          "data": {
            "text/plain": [
              "[]"
            ]
          },
          "metadata": {},
          "execution_count": 14
        }
      ]
    },
    {
      "cell_type": "code",
      "source": [
        "%%sql select * from Workers;"
      ],
      "metadata": {
        "colab": {
          "base_uri": "https://localhost:8080/",
          "height": 96
        },
        "id": "7a0DXYs49ggO",
        "outputId": "4d46e18c-3c55-4225-f5d5-ae0bcef8f353"
      },
      "execution_count": 15,
      "outputs": [
        {
          "output_type": "stream",
          "name": "stdout",
          "text": [
            " * sqlite:///trial.db\n",
            "Done.\n"
          ]
        },
        {
          "output_type": "execute_result",
          "data": {
            "text/plain": [
              "[('Naomi', 20000, 2.55)]"
            ],
            "text/html": [
              "<table>\n",
              "    <thead>\n",
              "        <tr>\n",
              "            <th>name</th>\n",
              "            <th>salary</th>\n",
              "            <th>weights</th>\n",
              "        </tr>\n",
              "    </thead>\n",
              "    <tbody>\n",
              "        <tr>\n",
              "            <td>Naomi</td>\n",
              "            <td>20000</td>\n",
              "            <td>2.55</td>\n",
              "        </tr>\n",
              "    </tbody>\n",
              "</table>"
            ]
          },
          "metadata": {},
          "execution_count": 15
        }
      ]
    },
    {
      "cell_type": "markdown",
      "source": [
        "**Truncation**"
      ],
      "metadata": {
        "id": "CA4Kuf8zuhQ1"
      }
    },
    {
      "cell_type": "markdown",
      "source": [
        "**Mac Unzipping the file**"
      ],
      "metadata": {
        "id": "fcbEuD2yu1VJ"
      }
    },
    {
      "cell_type": "code",
      "source": [
        "%sql sqlite:///trial2.db"
      ],
      "metadata": {
        "id": "XYHBIuNdug7L"
      },
      "execution_count": 3,
      "outputs": []
    },
    {
      "cell_type": "code",
      "source": [
        "%%sql CREATE TABLE new(\n",
        "    name VARCHAR(25),\n",
        "    salary INT,\n",
        "    weights DECIMAL(5,2)\n",
        ");"
      ],
      "metadata": {
        "colab": {
          "base_uri": "https://localhost:8080/"
        },
        "id": "1IUtJ8fKug20",
        "outputId": "3b4f5f97-c32e-4dec-f29b-563dd5bcc3a7"
      },
      "execution_count": 4,
      "outputs": [
        {
          "output_type": "stream",
          "name": "stdout",
          "text": [
            "   sqlite:///trial.db\n",
            " * sqlite:///trial2.db\n",
            "Done.\n"
          ]
        },
        {
          "output_type": "execute_result",
          "data": {
            "text/plain": [
              "[]"
            ]
          },
          "metadata": {},
          "execution_count": 4
        }
      ]
    },
    {
      "cell_type": "code",
      "source": [
        "%%sql INSERT INTO new (name,salary,weights) VALUES\n",
        "(\"Naomi\",20000,10)"
      ],
      "metadata": {
        "colab": {
          "base_uri": "https://localhost:8080/"
        },
        "id": "s6eeeEpBvueG",
        "outputId": "485d8aab-dd96-44fb-988b-ed3c9ca4f233"
      },
      "execution_count": 5,
      "outputs": [
        {
          "output_type": "stream",
          "name": "stdout",
          "text": [
            "   sqlite:///trial.db\n",
            " * sqlite:///trial2.db\n",
            "1 rows affected.\n"
          ]
        },
        {
          "output_type": "execute_result",
          "data": {
            "text/plain": [
              "[]"
            ]
          },
          "metadata": {},
          "execution_count": 5
        }
      ]
    },
    {
      "cell_type": "code",
      "source": [
        "%sql SELECT * FROM new;"
      ],
      "metadata": {
        "colab": {
          "base_uri": "https://localhost:8080/",
          "height": 114
        },
        "id": "Vy-trorKvubr",
        "outputId": "26a7b39d-ad52-410d-b77f-ac7ddd0f7a95"
      },
      "execution_count": 6,
      "outputs": [
        {
          "output_type": "stream",
          "name": "stdout",
          "text": [
            "   sqlite:///trial.db\n",
            " * sqlite:///trial2.db\n",
            "Done.\n"
          ]
        },
        {
          "output_type": "execute_result",
          "data": {
            "text/plain": [
              "[('Naomi', 20000, 10)]"
            ],
            "text/html": [
              "<table>\n",
              "    <thead>\n",
              "        <tr>\n",
              "            <th>name</th>\n",
              "            <th>salary</th>\n",
              "            <th>weights</th>\n",
              "        </tr>\n",
              "    </thead>\n",
              "    <tbody>\n",
              "        <tr>\n",
              "            <td>Naomi</td>\n",
              "            <td>20000</td>\n",
              "            <td>10</td>\n",
              "        </tr>\n",
              "    </tbody>\n",
              "</table>"
            ]
          },
          "metadata": {},
          "execution_count": 6
        }
      ]
    },
    {
      "cell_type": "code",
      "source": [
        "%%sql INSERT INTO new (name,salary,weights) VALUES\n",
        "(\"Winnie\",50000,10.00)"
      ],
      "metadata": {
        "colab": {
          "base_uri": "https://localhost:8080/"
        },
        "id": "DW-U4HXswA69",
        "outputId": "02415e7b-005a-4849-da19-1da04c3034f9"
      },
      "execution_count": 7,
      "outputs": [
        {
          "output_type": "stream",
          "name": "stdout",
          "text": [
            "   sqlite:///trial.db\n",
            " * sqlite:///trial2.db\n",
            "1 rows affected.\n"
          ]
        },
        {
          "output_type": "execute_result",
          "data": {
            "text/plain": [
              "[]"
            ]
          },
          "metadata": {},
          "execution_count": 7
        }
      ]
    },
    {
      "cell_type": "code",
      "source": [
        "%sql SELECT * FROM new;"
      ],
      "metadata": {
        "colab": {
          "base_uri": "https://localhost:8080/",
          "height": 135
        },
        "id": "Gr-1QZeEwA33",
        "outputId": "451bf568-34fc-4259-ba5a-d5f975f2cf70"
      },
      "execution_count": 8,
      "outputs": [
        {
          "output_type": "stream",
          "name": "stdout",
          "text": [
            "   sqlite:///trial.db\n",
            " * sqlite:///trial2.db\n",
            "Done.\n"
          ]
        },
        {
          "output_type": "execute_result",
          "data": {
            "text/plain": [
              "[('Naomi', 20000, 10), ('Winnie', 50000, 10)]"
            ],
            "text/html": [
              "<table>\n",
              "    <thead>\n",
              "        <tr>\n",
              "            <th>name</th>\n",
              "            <th>salary</th>\n",
              "            <th>weights</th>\n",
              "        </tr>\n",
              "    </thead>\n",
              "    <tbody>\n",
              "        <tr>\n",
              "            <td>Naomi</td>\n",
              "            <td>20000</td>\n",
              "            <td>10</td>\n",
              "        </tr>\n",
              "        <tr>\n",
              "            <td>Winnie</td>\n",
              "            <td>50000</td>\n",
              "            <td>10</td>\n",
              "        </tr>\n",
              "    </tbody>\n",
              "</table>"
            ]
          },
          "metadata": {},
          "execution_count": 8
        }
      ]
    },
    {
      "cell_type": "code",
      "source": [
        "%%sql INSERT INTO new (name,salary,weights) VALUES\n",
        "(\"Robert\",70000,9.80);"
      ],
      "metadata": {
        "colab": {
          "base_uri": "https://localhost:8080/"
        },
        "id": "Co9onsR8wA0h",
        "outputId": "398ca26b-749f-42e7-c92f-19441f9042ca"
      },
      "execution_count": 9,
      "outputs": [
        {
          "output_type": "stream",
          "name": "stdout",
          "text": [
            "   sqlite:///trial.db\n",
            " * sqlite:///trial2.db\n",
            "1 rows affected.\n"
          ]
        },
        {
          "output_type": "execute_result",
          "data": {
            "text/plain": [
              "[]"
            ]
          },
          "metadata": {},
          "execution_count": 9
        }
      ]
    },
    {
      "cell_type": "code",
      "source": [
        "%sql SELECT * FROM new;"
      ],
      "metadata": {
        "colab": {
          "base_uri": "https://localhost:8080/",
          "height": 157
        },
        "id": "iCI1bA-PvuZD",
        "outputId": "3ce181f1-3c45-445b-e795-6b8f2dd4e262"
      },
      "execution_count": 10,
      "outputs": [
        {
          "output_type": "stream",
          "name": "stdout",
          "text": [
            "   sqlite:///trial.db\n",
            " * sqlite:///trial2.db\n",
            "Done.\n"
          ]
        },
        {
          "output_type": "execute_result",
          "data": {
            "text/plain": [
              "[('Naomi', 20000, 10), ('Winnie', 50000, 10), ('Robert', 70000, 9.8)]"
            ],
            "text/html": [
              "<table>\n",
              "    <thead>\n",
              "        <tr>\n",
              "            <th>name</th>\n",
              "            <th>salary</th>\n",
              "            <th>weights</th>\n",
              "        </tr>\n",
              "    </thead>\n",
              "    <tbody>\n",
              "        <tr>\n",
              "            <td>Naomi</td>\n",
              "            <td>20000</td>\n",
              "            <td>10</td>\n",
              "        </tr>\n",
              "        <tr>\n",
              "            <td>Winnie</td>\n",
              "            <td>50000</td>\n",
              "            <td>10</td>\n",
              "        </tr>\n",
              "        <tr>\n",
              "            <td>Robert</td>\n",
              "            <td>70000</td>\n",
              "            <td>9.8</td>\n",
              "        </tr>\n",
              "    </tbody>\n",
              "</table>"
            ]
          },
          "metadata": {},
          "execution_count": 10
        }
      ]
    },
    {
      "cell_type": "code",
      "source": [
        "%%sql SELECT SUM(weights)\n",
        "FROM new;"
      ],
      "metadata": {
        "colab": {
          "base_uri": "https://localhost:8080/",
          "height": 114
        },
        "id": "EzZ5OAHNvuWS",
        "outputId": "0ba692be-67ff-4efe-9a4d-85f25651db56"
      },
      "execution_count": 11,
      "outputs": [
        {
          "output_type": "stream",
          "name": "stdout",
          "text": [
            "   sqlite:///trial.db\n",
            " * sqlite:///trial2.db\n",
            "Done.\n"
          ]
        },
        {
          "output_type": "execute_result",
          "data": {
            "text/plain": [
              "[(29.8,)]"
            ],
            "text/html": [
              "<table>\n",
              "    <thead>\n",
              "        <tr>\n",
              "            <th>SUM(weights)</th>\n",
              "        </tr>\n",
              "    </thead>\n",
              "    <tbody>\n",
              "        <tr>\n",
              "            <td>29.8</td>\n",
              "        </tr>\n",
              "    </tbody>\n",
              "</table>"
            ]
          },
          "metadata": {},
          "execution_count": 11
        }
      ]
    },
    {
      "cell_type": "code",
      "source": [
        "%%sql SELECT CAST(weights AS DECIMAL(10, 2)) AS formatted_value\n",
        "FROM new;\n"
      ],
      "metadata": {
        "colab": {
          "base_uri": "https://localhost:8080/",
          "height": 157
        },
        "id": "xgoukPnXwevb",
        "outputId": "5a4b80e5-4a4b-495c-d1fe-cacb03015f1c"
      },
      "execution_count": 12,
      "outputs": [
        {
          "output_type": "stream",
          "name": "stdout",
          "text": [
            "   sqlite:///trial.db\n",
            " * sqlite:///trial2.db\n",
            "Done.\n"
          ]
        },
        {
          "output_type": "execute_result",
          "data": {
            "text/plain": [
              "[(10,), (10,), (9.8,)]"
            ],
            "text/html": [
              "<table>\n",
              "    <thead>\n",
              "        <tr>\n",
              "            <th>formatted_value</th>\n",
              "        </tr>\n",
              "    </thead>\n",
              "    <tbody>\n",
              "        <tr>\n",
              "            <td>10</td>\n",
              "        </tr>\n",
              "        <tr>\n",
              "            <td>10</td>\n",
              "        </tr>\n",
              "        <tr>\n",
              "            <td>9.8</td>\n",
              "        </tr>\n",
              "    </tbody>\n",
              "</table>"
            ]
          },
          "metadata": {},
          "execution_count": 12
        }
      ]
    },
    {
      "cell_type": "code",
      "source": [
        "%%sql ALTER TABLE new\n",
        "ADD COLUMN bmi REAL;\n"
      ],
      "metadata": {
        "colab": {
          "base_uri": "https://localhost:8080/"
        },
        "id": "9uODtOUewqfB",
        "outputId": "5d741180-15fe-435e-c17d-94e10af9f7fe"
      },
      "execution_count": 13,
      "outputs": [
        {
          "output_type": "stream",
          "name": "stdout",
          "text": [
            "   sqlite:///trial.db\n",
            " * sqlite:///trial2.db\n",
            "Done.\n"
          ]
        },
        {
          "output_type": "execute_result",
          "data": {
            "text/plain": [
              "[]"
            ]
          },
          "metadata": {},
          "execution_count": 13
        }
      ]
    },
    {
      "cell_type": "code",
      "source": [
        "%sql PRAGMA table_info(\"new\");"
      ],
      "metadata": {
        "colab": {
          "base_uri": "https://localhost:8080/",
          "height": 178
        },
        "id": "6T9t3T7nwqcW",
        "outputId": "31c57492-7818-425a-f31a-96817d6250b6"
      },
      "execution_count": 14,
      "outputs": [
        {
          "output_type": "stream",
          "name": "stdout",
          "text": [
            "   sqlite:///trial.db\n",
            " * sqlite:///trial2.db\n",
            "Done.\n"
          ]
        },
        {
          "output_type": "execute_result",
          "data": {
            "text/plain": [
              "[(0, 'name', 'VARCHAR(25)', 0, None, 0),\n",
              " (1, 'salary', 'INT', 0, None, 0),\n",
              " (2, 'weights', 'DECIMAL(5,2)', 0, None, 0),\n",
              " (3, 'bmi', 'REAL', 0, None, 0)]"
            ],
            "text/html": [
              "<table>\n",
              "    <thead>\n",
              "        <tr>\n",
              "            <th>cid</th>\n",
              "            <th>name</th>\n",
              "            <th>type</th>\n",
              "            <th>notnull</th>\n",
              "            <th>dflt_value</th>\n",
              "            <th>pk</th>\n",
              "        </tr>\n",
              "    </thead>\n",
              "    <tbody>\n",
              "        <tr>\n",
              "            <td>0</td>\n",
              "            <td>name</td>\n",
              "            <td>VARCHAR(25)</td>\n",
              "            <td>0</td>\n",
              "            <td>None</td>\n",
              "            <td>0</td>\n",
              "        </tr>\n",
              "        <tr>\n",
              "            <td>1</td>\n",
              "            <td>salary</td>\n",
              "            <td>INT</td>\n",
              "            <td>0</td>\n",
              "            <td>None</td>\n",
              "            <td>0</td>\n",
              "        </tr>\n",
              "        <tr>\n",
              "            <td>2</td>\n",
              "            <td>weights</td>\n",
              "            <td>DECIMAL(5,2)</td>\n",
              "            <td>0</td>\n",
              "            <td>None</td>\n",
              "            <td>0</td>\n",
              "        </tr>\n",
              "        <tr>\n",
              "            <td>3</td>\n",
              "            <td>bmi</td>\n",
              "            <td>REAL</td>\n",
              "            <td>0</td>\n",
              "            <td>None</td>\n",
              "            <td>0</td>\n",
              "        </tr>\n",
              "    </tbody>\n",
              "</table>"
            ]
          },
          "metadata": {},
          "execution_count": 14
        }
      ]
    },
    {
      "cell_type": "code",
      "source": [
        "%%sql INSERT INTO new (name,salary,weights,bmi) VALUES\n",
        "(\"Jane\",40000,12.50,20.00);"
      ],
      "metadata": {
        "colab": {
          "base_uri": "https://localhost:8080/"
        },
        "id": "vUxPX4wcwqZx",
        "outputId": "c364dea0-b7fc-4250-878a-b22043d38c00"
      },
      "execution_count": 15,
      "outputs": [
        {
          "output_type": "stream",
          "name": "stdout",
          "text": [
            "   sqlite:///trial.db\n",
            " * sqlite:///trial2.db\n",
            "1 rows affected.\n"
          ]
        },
        {
          "output_type": "execute_result",
          "data": {
            "text/plain": [
              "[]"
            ]
          },
          "metadata": {},
          "execution_count": 15
        }
      ]
    },
    {
      "cell_type": "code",
      "source": [
        "%sql SELECT * FROM new;"
      ],
      "metadata": {
        "colab": {
          "base_uri": "https://localhost:8080/",
          "height": 178
        },
        "id": "6KtvpARHxYZs",
        "outputId": "12ee5d0c-42df-4b26-cb27-46687f61a4cf"
      },
      "execution_count": 16,
      "outputs": [
        {
          "output_type": "stream",
          "name": "stdout",
          "text": [
            "   sqlite:///trial.db\n",
            " * sqlite:///trial2.db\n",
            "Done.\n"
          ]
        },
        {
          "output_type": "execute_result",
          "data": {
            "text/plain": [
              "[('Naomi', 20000, 10, None),\n",
              " ('Winnie', 50000, 10, None),\n",
              " ('Robert', 70000, 9.8, None),\n",
              " ('Jane', 40000, 12.5, 20.0)]"
            ],
            "text/html": [
              "<table>\n",
              "    <thead>\n",
              "        <tr>\n",
              "            <th>name</th>\n",
              "            <th>salary</th>\n",
              "            <th>weights</th>\n",
              "            <th>bmi</th>\n",
              "        </tr>\n",
              "    </thead>\n",
              "    <tbody>\n",
              "        <tr>\n",
              "            <td>Naomi</td>\n",
              "            <td>20000</td>\n",
              "            <td>10</td>\n",
              "            <td>None</td>\n",
              "        </tr>\n",
              "        <tr>\n",
              "            <td>Winnie</td>\n",
              "            <td>50000</td>\n",
              "            <td>10</td>\n",
              "            <td>None</td>\n",
              "        </tr>\n",
              "        <tr>\n",
              "            <td>Robert</td>\n",
              "            <td>70000</td>\n",
              "            <td>9.8</td>\n",
              "            <td>None</td>\n",
              "        </tr>\n",
              "        <tr>\n",
              "            <td>Jane</td>\n",
              "            <td>40000</td>\n",
              "            <td>12.5</td>\n",
              "            <td>20.0</td>\n",
              "        </tr>\n",
              "    </tbody>\n",
              "</table>"
            ]
          },
          "metadata": {},
          "execution_count": 16
        }
      ]
    }
  ]
}